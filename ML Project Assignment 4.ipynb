{
 "cells": [
  {
   "cell_type": "markdown",
   "metadata": {},
   "source": [
    "# Importing Necessary Libraries"
   ]
  },
  {
   "cell_type": "code",
   "execution_count": 1,
   "metadata": {},
   "outputs": [],
   "source": [
    "import numpy as np\n",
    "import pandas as pd\n",
    "from sklearn.model_selection import train_test_split\n",
    "from sklearn.model_selection import cross_validate\n",
    "from sklearn import preprocessing\n",
    "import matplotlib.pyplot as plt\n",
    "from sklearn.neighbors import KNeighborsClassifier\n",
    "from sklearn.naive_bayes import GaussianNB\n",
    "from sklearn import metrics\n",
    "from sklearn.model_selection import cross_val_score\n",
    "from sklearn.metrics import precision_recall_fscore_support\n",
    "from sklearn.metrics import confusion_matrix\n",
    "from sklearn.metrics import plot_confusion_matrix\n",
    "from sklearn.metrics import accuracy_score\n",
    "from sklearn.metrics import classification_report\n",
    "from scipy import stats\n",
    "import seaborn as sns\n",
    "sns.set()"
   ]
  },
  {
   "cell_type": "markdown",
   "metadata": {},
   "source": [
    "# Reading the data"
   ]
  },
  {
   "cell_type": "code",
   "execution_count": 2,
   "metadata": {},
   "outputs": [
    {
     "data": {
      "text/html": [
       "<div>\n",
       "<style scoped>\n",
       "    .dataframe tbody tr th:only-of-type {\n",
       "        vertical-align: middle;\n",
       "    }\n",
       "\n",
       "    .dataframe tbody tr th {\n",
       "        vertical-align: top;\n",
       "    }\n",
       "\n",
       "    .dataframe thead th {\n",
       "        text-align: right;\n",
       "    }\n",
       "</style>\n",
       "<table border=\"1\" class=\"dataframe\">\n",
       "  <thead>\n",
       "    <tr style=\"text-align: right;\">\n",
       "      <th></th>\n",
       "      <th>age</th>\n",
       "      <th>anaemia</th>\n",
       "      <th>creatinine_phosphokinase</th>\n",
       "      <th>diabetes</th>\n",
       "      <th>ejection_fraction</th>\n",
       "      <th>high_blood_pressure</th>\n",
       "      <th>platelets</th>\n",
       "      <th>serum_creatinine</th>\n",
       "      <th>serum_sodium</th>\n",
       "      <th>sex</th>\n",
       "      <th>smoking</th>\n",
       "      <th>time</th>\n",
       "      <th>DEATH_EVENT</th>\n",
       "    </tr>\n",
       "  </thead>\n",
       "  <tbody>\n",
       "    <tr>\n",
       "      <th>0</th>\n",
       "      <td>75.0</td>\n",
       "      <td>0</td>\n",
       "      <td>582</td>\n",
       "      <td>0</td>\n",
       "      <td>20</td>\n",
       "      <td>1</td>\n",
       "      <td>265000.00</td>\n",
       "      <td>1.9</td>\n",
       "      <td>130</td>\n",
       "      <td>1</td>\n",
       "      <td>0</td>\n",
       "      <td>4</td>\n",
       "      <td>1</td>\n",
       "    </tr>\n",
       "    <tr>\n",
       "      <th>1</th>\n",
       "      <td>55.0</td>\n",
       "      <td>0</td>\n",
       "      <td>7861</td>\n",
       "      <td>0</td>\n",
       "      <td>38</td>\n",
       "      <td>0</td>\n",
       "      <td>263358.03</td>\n",
       "      <td>1.1</td>\n",
       "      <td>136</td>\n",
       "      <td>1</td>\n",
       "      <td>0</td>\n",
       "      <td>6</td>\n",
       "      <td>1</td>\n",
       "    </tr>\n",
       "    <tr>\n",
       "      <th>2</th>\n",
       "      <td>65.0</td>\n",
       "      <td>0</td>\n",
       "      <td>146</td>\n",
       "      <td>0</td>\n",
       "      <td>20</td>\n",
       "      <td>0</td>\n",
       "      <td>162000.00</td>\n",
       "      <td>1.3</td>\n",
       "      <td>129</td>\n",
       "      <td>1</td>\n",
       "      <td>1</td>\n",
       "      <td>7</td>\n",
       "      <td>1</td>\n",
       "    </tr>\n",
       "    <tr>\n",
       "      <th>3</th>\n",
       "      <td>50.0</td>\n",
       "      <td>1</td>\n",
       "      <td>111</td>\n",
       "      <td>0</td>\n",
       "      <td>20</td>\n",
       "      <td>0</td>\n",
       "      <td>210000.00</td>\n",
       "      <td>1.9</td>\n",
       "      <td>137</td>\n",
       "      <td>1</td>\n",
       "      <td>0</td>\n",
       "      <td>7</td>\n",
       "      <td>1</td>\n",
       "    </tr>\n",
       "    <tr>\n",
       "      <th>4</th>\n",
       "      <td>65.0</td>\n",
       "      <td>1</td>\n",
       "      <td>160</td>\n",
       "      <td>1</td>\n",
       "      <td>20</td>\n",
       "      <td>0</td>\n",
       "      <td>327000.00</td>\n",
       "      <td>2.7</td>\n",
       "      <td>116</td>\n",
       "      <td>0</td>\n",
       "      <td>0</td>\n",
       "      <td>8</td>\n",
       "      <td>1</td>\n",
       "    </tr>\n",
       "  </tbody>\n",
       "</table>\n",
       "</div>"
      ],
      "text/plain": [
       "    age  anaemia  creatinine_phosphokinase  diabetes  ejection_fraction  \\\n",
       "0  75.0        0                       582         0                 20   \n",
       "1  55.0        0                      7861         0                 38   \n",
       "2  65.0        0                       146         0                 20   \n",
       "3  50.0        1                       111         0                 20   \n",
       "4  65.0        1                       160         1                 20   \n",
       "\n",
       "   high_blood_pressure  platelets  serum_creatinine  serum_sodium  sex  \\\n",
       "0                    1  265000.00               1.9           130    1   \n",
       "1                    0  263358.03               1.1           136    1   \n",
       "2                    0  162000.00               1.3           129    1   \n",
       "3                    0  210000.00               1.9           137    1   \n",
       "4                    0  327000.00               2.7           116    0   \n",
       "\n",
       "   smoking  time  DEATH_EVENT  \n",
       "0        0     4            1  \n",
       "1        0     6            1  \n",
       "2        1     7            1  \n",
       "3        0     7            1  \n",
       "4        0     8            1  "
      ]
     },
     "execution_count": 2,
     "metadata": {},
     "output_type": "execute_result"
    }
   ],
   "source": [
    "data = pd.read_csv('heart_failure_clinical_records_dataset.csv') \n",
    "data.head(5)"
   ]
  },
  {
   "cell_type": "markdown",
   "metadata": {},
   "source": [
    "# Scaling the data"
   ]
  },
  {
   "cell_type": "code",
   "execution_count": 3,
   "metadata": {},
   "outputs": [
    {
     "data": {
      "text/html": [
       "<div>\n",
       "<style scoped>\n",
       "    .dataframe tbody tr th:only-of-type {\n",
       "        vertical-align: middle;\n",
       "    }\n",
       "\n",
       "    .dataframe tbody tr th {\n",
       "        vertical-align: top;\n",
       "    }\n",
       "\n",
       "    .dataframe thead th {\n",
       "        text-align: right;\n",
       "    }\n",
       "</style>\n",
       "<table border=\"1\" class=\"dataframe\">\n",
       "  <thead>\n",
       "    <tr style=\"text-align: right;\">\n",
       "      <th></th>\n",
       "      <th>age</th>\n",
       "      <th>anaemia</th>\n",
       "      <th>creatinine_phosphokinase</th>\n",
       "      <th>diabetes</th>\n",
       "      <th>ejection_fraction</th>\n",
       "      <th>high_blood_pressure</th>\n",
       "      <th>platelets</th>\n",
       "      <th>serum_creatinine</th>\n",
       "      <th>serum_sodium</th>\n",
       "      <th>sex</th>\n",
       "      <th>smoking</th>\n",
       "      <th>time</th>\n",
       "      <th>DEATH_EVENT</th>\n",
       "    </tr>\n",
       "  </thead>\n",
       "  <tbody>\n",
       "    <tr>\n",
       "      <th>0</th>\n",
       "      <td>0.636364</td>\n",
       "      <td>0.0</td>\n",
       "      <td>0.071319</td>\n",
       "      <td>0.0</td>\n",
       "      <td>0.090909</td>\n",
       "      <td>1.0</td>\n",
       "      <td>0.290823</td>\n",
       "      <td>0.157303</td>\n",
       "      <td>0.485714</td>\n",
       "      <td>1.0</td>\n",
       "      <td>0.0</td>\n",
       "      <td>0.000000</td>\n",
       "      <td>1.0</td>\n",
       "    </tr>\n",
       "    <tr>\n",
       "      <th>1</th>\n",
       "      <td>0.272727</td>\n",
       "      <td>0.0</td>\n",
       "      <td>1.000000</td>\n",
       "      <td>0.0</td>\n",
       "      <td>0.363636</td>\n",
       "      <td>0.0</td>\n",
       "      <td>0.288833</td>\n",
       "      <td>0.067416</td>\n",
       "      <td>0.657143</td>\n",
       "      <td>1.0</td>\n",
       "      <td>0.0</td>\n",
       "      <td>0.007117</td>\n",
       "      <td>1.0</td>\n",
       "    </tr>\n",
       "    <tr>\n",
       "      <th>2</th>\n",
       "      <td>0.454545</td>\n",
       "      <td>0.0</td>\n",
       "      <td>0.015693</td>\n",
       "      <td>0.0</td>\n",
       "      <td>0.090909</td>\n",
       "      <td>0.0</td>\n",
       "      <td>0.165960</td>\n",
       "      <td>0.089888</td>\n",
       "      <td>0.457143</td>\n",
       "      <td>1.0</td>\n",
       "      <td>1.0</td>\n",
       "      <td>0.010676</td>\n",
       "      <td>1.0</td>\n",
       "    </tr>\n",
       "    <tr>\n",
       "      <th>3</th>\n",
       "      <td>0.181818</td>\n",
       "      <td>1.0</td>\n",
       "      <td>0.011227</td>\n",
       "      <td>0.0</td>\n",
       "      <td>0.090909</td>\n",
       "      <td>0.0</td>\n",
       "      <td>0.224148</td>\n",
       "      <td>0.157303</td>\n",
       "      <td>0.685714</td>\n",
       "      <td>1.0</td>\n",
       "      <td>0.0</td>\n",
       "      <td>0.010676</td>\n",
       "      <td>1.0</td>\n",
       "    </tr>\n",
       "    <tr>\n",
       "      <th>4</th>\n",
       "      <td>0.454545</td>\n",
       "      <td>1.0</td>\n",
       "      <td>0.017479</td>\n",
       "      <td>1.0</td>\n",
       "      <td>0.090909</td>\n",
       "      <td>0.0</td>\n",
       "      <td>0.365984</td>\n",
       "      <td>0.247191</td>\n",
       "      <td>0.085714</td>\n",
       "      <td>0.0</td>\n",
       "      <td>0.0</td>\n",
       "      <td>0.014235</td>\n",
       "      <td>1.0</td>\n",
       "    </tr>\n",
       "  </tbody>\n",
       "</table>\n",
       "</div>"
      ],
      "text/plain": [
       "        age  anaemia  creatinine_phosphokinase  diabetes  ejection_fraction  \\\n",
       "0  0.636364      0.0                  0.071319       0.0           0.090909   \n",
       "1  0.272727      0.0                  1.000000       0.0           0.363636   \n",
       "2  0.454545      0.0                  0.015693       0.0           0.090909   \n",
       "3  0.181818      1.0                  0.011227       0.0           0.090909   \n",
       "4  0.454545      1.0                  0.017479       1.0           0.090909   \n",
       "\n",
       "   high_blood_pressure  platelets  serum_creatinine  serum_sodium  sex  \\\n",
       "0                  1.0   0.290823          0.157303      0.485714  1.0   \n",
       "1                  0.0   0.288833          0.067416      0.657143  1.0   \n",
       "2                  0.0   0.165960          0.089888      0.457143  1.0   \n",
       "3                  0.0   0.224148          0.157303      0.685714  1.0   \n",
       "4                  0.0   0.365984          0.247191      0.085714  0.0   \n",
       "\n",
       "   smoking      time  DEATH_EVENT  \n",
       "0      0.0  0.000000          1.0  \n",
       "1      0.0  0.007117          1.0  \n",
       "2      1.0  0.010676          1.0  \n",
       "3      0.0  0.010676          1.0  \n",
       "4      0.0  0.014235          1.0  "
      ]
     },
     "execution_count": 3,
     "metadata": {},
     "output_type": "execute_result"
    }
   ],
   "source": [
    "Min_max = preprocessing.MinMaxScaler(feature_range = (0,1))\n",
    "\n",
    "cols = data.columns\n",
    "data[cols] = Min_max.fit_transform(data[cols])\n",
    "\n",
    "data.head()"
   ]
  },
  {
   "cell_type": "markdown",
   "metadata": {},
   "source": [
    "# Removing Outliers"
   ]
  },
  {
   "cell_type": "code",
   "execution_count": 4,
   "metadata": {},
   "outputs": [
    {
     "name": "stdout",
     "output_type": "stream",
     "text": [
      "(array([  1,   4,   9,  19,  28,  52,  52,  60,  64,  72, 103, 105, 109,\n",
      "       131, 134, 171, 199, 217, 228, 296], dtype=int64), array([2, 8, 7, 8, 7, 2, 7, 2, 4, 2, 2, 6, 6, 7, 2, 2, 8, 7, 7, 6],\n",
      "      dtype=int64))\n"
     ]
    }
   ],
   "source": [
    "z_score = np.abs(stats.zscore(data))\n",
    "threshold = 3\n",
    "print(np.where(z_score > threshold))"
   ]
  },
  {
   "cell_type": "code",
   "execution_count": 5,
   "metadata": {},
   "outputs": [
    {
     "data": {
      "text/html": [
       "<div>\n",
       "<style scoped>\n",
       "    .dataframe tbody tr th:only-of-type {\n",
       "        vertical-align: middle;\n",
       "    }\n",
       "\n",
       "    .dataframe tbody tr th {\n",
       "        vertical-align: top;\n",
       "    }\n",
       "\n",
       "    .dataframe thead th {\n",
       "        text-align: right;\n",
       "    }\n",
       "</style>\n",
       "<table border=\"1\" class=\"dataframe\">\n",
       "  <thead>\n",
       "    <tr style=\"text-align: right;\">\n",
       "      <th></th>\n",
       "      <th>age</th>\n",
       "      <th>anaemia</th>\n",
       "      <th>creatinine_phosphokinase</th>\n",
       "      <th>diabetes</th>\n",
       "      <th>ejection_fraction</th>\n",
       "      <th>high_blood_pressure</th>\n",
       "      <th>platelets</th>\n",
       "      <th>serum_creatinine</th>\n",
       "      <th>serum_sodium</th>\n",
       "      <th>sex</th>\n",
       "      <th>smoking</th>\n",
       "      <th>time</th>\n",
       "      <th>DEATH_EVENT</th>\n",
       "    </tr>\n",
       "  </thead>\n",
       "  <tbody>\n",
       "    <tr>\n",
       "      <th>count</th>\n",
       "      <td>280.000000</td>\n",
       "      <td>280.000000</td>\n",
       "      <td>280.000000</td>\n",
       "      <td>280.000000</td>\n",
       "      <td>280.000000</td>\n",
       "      <td>280.000000</td>\n",
       "      <td>280.000000</td>\n",
       "      <td>280.000000</td>\n",
       "      <td>280.000000</td>\n",
       "      <td>280.000000</td>\n",
       "      <td>280.000000</td>\n",
       "      <td>280.000000</td>\n",
       "      <td>280.000000</td>\n",
       "    </tr>\n",
       "    <tr>\n",
       "      <th>mean</th>\n",
       "      <td>0.381320</td>\n",
       "      <td>0.435714</td>\n",
       "      <td>0.055336</td>\n",
       "      <td>0.417857</td>\n",
       "      <td>0.361147</td>\n",
       "      <td>0.360714</td>\n",
       "      <td>0.283331</td>\n",
       "      <td>0.087123</td>\n",
       "      <td>0.680714</td>\n",
       "      <td>0.653571</td>\n",
       "      <td>0.314286</td>\n",
       "      <td>0.457994</td>\n",
       "      <td>0.307143</td>\n",
       "    </tr>\n",
       "    <tr>\n",
       "      <th>std</th>\n",
       "      <td>0.214824</td>\n",
       "      <td>0.496738</td>\n",
       "      <td>0.068526</td>\n",
       "      <td>0.494089</td>\n",
       "      <td>0.173795</td>\n",
       "      <td>0.481068</td>\n",
       "      <td>0.103777</td>\n",
       "      <td>0.069185</td>\n",
       "      <td>0.112120</td>\n",
       "      <td>0.476684</td>\n",
       "      <td>0.465062</td>\n",
       "      <td>0.274675</td>\n",
       "      <td>0.462135</td>\n",
       "    </tr>\n",
       "    <tr>\n",
       "      <th>min</th>\n",
       "      <td>0.000000</td>\n",
       "      <td>0.000000</td>\n",
       "      <td>0.000000</td>\n",
       "      <td>0.000000</td>\n",
       "      <td>0.000000</td>\n",
       "      <td>0.000000</td>\n",
       "      <td>0.000000</td>\n",
       "      <td>0.000000</td>\n",
       "      <td>0.314286</td>\n",
       "      <td>0.000000</td>\n",
       "      <td>0.000000</td>\n",
       "      <td>0.000000</td>\n",
       "      <td>0.000000</td>\n",
       "    </tr>\n",
       "    <tr>\n",
       "      <th>25%</th>\n",
       "      <td>0.200000</td>\n",
       "      <td>0.000000</td>\n",
       "      <td>0.011674</td>\n",
       "      <td>0.000000</td>\n",
       "      <td>0.242424</td>\n",
       "      <td>0.000000</td>\n",
       "      <td>0.225058</td>\n",
       "      <td>0.044944</td>\n",
       "      <td>0.600000</td>\n",
       "      <td>0.000000</td>\n",
       "      <td>0.000000</td>\n",
       "      <td>0.249110</td>\n",
       "      <td>0.000000</td>\n",
       "    </tr>\n",
       "    <tr>\n",
       "      <th>50%</th>\n",
       "      <td>0.363636</td>\n",
       "      <td>0.000000</td>\n",
       "      <td>0.027622</td>\n",
       "      <td>0.000000</td>\n",
       "      <td>0.363636</td>\n",
       "      <td>0.000000</td>\n",
       "      <td>0.285974</td>\n",
       "      <td>0.067416</td>\n",
       "      <td>0.685714</td>\n",
       "      <td>1.000000</td>\n",
       "      <td>0.000000</td>\n",
       "      <td>0.411032</td>\n",
       "      <td>0.000000</td>\n",
       "    </tr>\n",
       "    <tr>\n",
       "      <th>75%</th>\n",
       "      <td>0.545455</td>\n",
       "      <td>1.000000</td>\n",
       "      <td>0.071319</td>\n",
       "      <td>1.000000</td>\n",
       "      <td>0.469697</td>\n",
       "      <td>1.000000</td>\n",
       "      <td>0.335677</td>\n",
       "      <td>0.101124</td>\n",
       "      <td>0.771429</td>\n",
       "      <td>1.000000</td>\n",
       "      <td>1.000000</td>\n",
       "      <td>0.716192</td>\n",
       "      <td>1.000000</td>\n",
       "    </tr>\n",
       "    <tr>\n",
       "      <th>max</th>\n",
       "      <td>1.000000</td>\n",
       "      <td>1.000000</td>\n",
       "      <td>0.353534</td>\n",
       "      <td>1.000000</td>\n",
       "      <td>0.772727</td>\n",
       "      <td>1.000000</td>\n",
       "      <td>0.627834</td>\n",
       "      <td>0.438202</td>\n",
       "      <td>1.000000</td>\n",
       "      <td>1.000000</td>\n",
       "      <td>1.000000</td>\n",
       "      <td>1.000000</td>\n",
       "      <td>1.000000</td>\n",
       "    </tr>\n",
       "  </tbody>\n",
       "</table>\n",
       "</div>"
      ],
      "text/plain": [
       "              age     anaemia  creatinine_phosphokinase    diabetes  \\\n",
       "count  280.000000  280.000000                280.000000  280.000000   \n",
       "mean     0.381320    0.435714                  0.055336    0.417857   \n",
       "std      0.214824    0.496738                  0.068526    0.494089   \n",
       "min      0.000000    0.000000                  0.000000    0.000000   \n",
       "25%      0.200000    0.000000                  0.011674    0.000000   \n",
       "50%      0.363636    0.000000                  0.027622    0.000000   \n",
       "75%      0.545455    1.000000                  0.071319    1.000000   \n",
       "max      1.000000    1.000000                  0.353534    1.000000   \n",
       "\n",
       "       ejection_fraction  high_blood_pressure   platelets  serum_creatinine  \\\n",
       "count         280.000000           280.000000  280.000000        280.000000   \n",
       "mean            0.361147             0.360714    0.283331          0.087123   \n",
       "std             0.173795             0.481068    0.103777          0.069185   \n",
       "min             0.000000             0.000000    0.000000          0.000000   \n",
       "25%             0.242424             0.000000    0.225058          0.044944   \n",
       "50%             0.363636             0.000000    0.285974          0.067416   \n",
       "75%             0.469697             1.000000    0.335677          0.101124   \n",
       "max             0.772727             1.000000    0.627834          0.438202   \n",
       "\n",
       "       serum_sodium         sex     smoking        time  DEATH_EVENT  \n",
       "count    280.000000  280.000000  280.000000  280.000000   280.000000  \n",
       "mean       0.680714    0.653571    0.314286    0.457994     0.307143  \n",
       "std        0.112120    0.476684    0.465062    0.274675     0.462135  \n",
       "min        0.314286    0.000000    0.000000    0.000000     0.000000  \n",
       "25%        0.600000    0.000000    0.000000    0.249110     0.000000  \n",
       "50%        0.685714    1.000000    0.000000    0.411032     0.000000  \n",
       "75%        0.771429    1.000000    1.000000    0.716192     1.000000  \n",
       "max        1.000000    1.000000    1.000000    1.000000     1.000000  "
      ]
     },
     "execution_count": 5,
     "metadata": {},
     "output_type": "execute_result"
    }
   ],
   "source": [
    "data = data[(z_score < 3).all(axis=1)]\n",
    "data.describe()"
   ]
  },
  {
   "cell_type": "code",
   "execution_count": 6,
   "metadata": {},
   "outputs": [],
   "source": [
    "X = data.iloc[:,:12].to_numpy()\n",
    "y = data.iloc[:,12:].to_numpy()\n",
    "y = np.ravel(y)"
   ]
  },
  {
   "cell_type": "markdown",
   "metadata": {},
   "source": [
    "# Splitting the Data"
   ]
  },
  {
   "cell_type": "code",
   "execution_count": 7,
   "metadata": {},
   "outputs": [],
   "source": [
    "split_size = 0.2\n",
    "X_train, X_test, y_train, y_test = train_test_split(X,y,test_size = split_size, random_state = 64)\n",
    "y_train = np.ravel(y_train)\n",
    "y_test = np.reshape(y_test,(-1,1))\n",
    "# X_train.shape"
   ]
  },
  {
   "cell_type": "markdown",
   "metadata": {},
   "source": [
    "# KNN Classifier"
   ]
  },
  {
   "cell_type": "markdown",
   "metadata": {},
   "source": [
    "Cross Validation"
   ]
  },
  {
   "cell_type": "code",
   "execution_count": 8,
   "metadata": {},
   "outputs": [
    {
     "name": "stdout",
     "output_type": "stream",
     "text": [
      "Cross validation scores with n_neighbours:  2\n",
      "The fit time is: [0.00200009 0.0010004  0.0009973  0.0009973  0.        ]\n",
      "The score time is: [0.00497961 0.00399303 0.00199461 0.00199437 0.00398993]\n",
      "The test score is: [0.66071429 0.75       0.73214286 0.67857143 0.69642857]\n",
      "The train score is: [0.79910714 0.80357143 0.79017857 0.79910714 0.82142857]\n",
      "\n",
      "****************************************************************************\n",
      "\n",
      "Cross validation scores with n_neighbours:  3\n",
      "The fit time is: [0.0009973  0.         0.         0.0009973  0.00099659]\n",
      "The score time is: [0.00299191 0.00299191 0.00299382 0.00199461 0.00099707]\n",
      "The test score is: [0.5        0.73214286 0.73214286 0.71428571 0.69642857]\n",
      "The train score is: [0.82589286 0.83482143 0.81696429 0.83035714 0.85267857]\n",
      "\n",
      "****************************************************************************\n",
      "\n",
      "Cross validation scores with n_neighbours:  4\n",
      "The fit time is: [0.00099659 0.0009973  0.00099826 0.         0.00098896]\n",
      "The score time is: [0.00299239 0.00199437 0.00199318 0.00199461 0.00199366]\n",
      "The test score is: [0.64285714 0.73214286 0.69642857 0.69642857 0.69642857]\n",
      "The train score is: [0.76339286 0.78125    0.75       0.76339286 0.79910714]\n",
      "\n",
      "****************************************************************************\n",
      "\n",
      "Cross validation scores with n_neighbours:  5\n",
      "The fit time is: [0.00099754 0.00099754 0.00099778 0.00099826 0.        ]\n",
      "The score time is: [0.00299191 0.00400305 0.00199437 0.00199318 0.00299144]\n",
      "The test score is: [0.53571429 0.66071429 0.625      0.71428571 0.66071429]\n",
      "The train score is: [0.78125    0.78125    0.76785714 0.77232143 0.80357143]\n",
      "\n",
      "****************************************************************************\n",
      "\n",
      "Cross validation scores with n_neighbours:  6\n",
      "The fit time is: [0.0009973  0.         0.         0.         0.00099754]\n",
      "The score time is: [0.00299168 0.00299215 0.00199509 0.0019896  0.00200462]\n",
      "The test score is: [0.66071429 0.66071429 0.67857143 0.69642857 0.66071429]\n",
      "The train score is: [0.74553571 0.74107143 0.73214286 0.72321429 0.75      ]\n",
      "\n",
      "****************************************************************************\n",
      "\n",
      "Cross validation scores with n_neighbours:  7\n",
      "The fit time is: [0.00099754 0.00099802 0.00099754 0.00099754 0.0009973 ]\n",
      "The score time is: [0.00299215 0.0029912  0.00399542 0.00199485 0.00299263]\n",
      "The test score is: [0.58928571 0.66071429 0.67857143 0.69642857 0.66071429]\n",
      "The train score is: [0.75892857 0.75446429 0.75892857 0.74107143 0.75892857]\n",
      "\n",
      "****************************************************************************\n",
      "\n",
      "Cross validation scores with n_neighbours:  8\n",
      "The fit time is: [0.00099707 0.         0.00099778 0.00099683 0.00099802]\n",
      "The score time is: [0.00299215 0.00298309 0.00199461 0.00299168 0.00299263]\n",
      "The test score is: [0.625      0.69642857 0.71428571 0.69642857 0.69642857]\n",
      "The train score is: [0.72321429 0.73660714 0.73660714 0.71428571 0.74553571]\n",
      "\n",
      "****************************************************************************\n",
      "\n",
      "Cross validation scores with n_neighbours:  9\n",
      "The fit time is: [0.00299501 0.00099254 0.         0.00099635 0.00099778]\n",
      "The score time is: [0.00498319 0.00199318 0.00299215 0.00199461 0.00400758]\n",
      "The test score is: [0.69642857 0.73214286 0.67857143 0.71428571 0.69642857]\n",
      "The train score is: [0.73660714 0.73660714 0.73660714 0.73660714 0.75892857]\n",
      "\n",
      "****************************************************************************\n",
      "\n",
      "Cross validation scores with n_neighbours:  10\n",
      "The fit time is: [0.0009973 0.        0.0009985 0.        0.       ]\n",
      "The score time is: [0.00399089 0.00299096 0.00297976 0.00299168 0.00299215]\n",
      "The test score is: [0.625      0.71428571 0.67857143 0.69642857 0.69642857]\n",
      "The train score is: [0.74553571 0.74107143 0.73660714 0.72321429 0.73660714]\n",
      "\n",
      "****************************************************************************\n",
      "\n",
      "Cross validation scores with n_neighbours:  11\n",
      "The fit time is: [0.00099707 0.         0.         0.00099754 0.00099754]\n",
      "The score time is: [0.00398898 0.00199413 0.00199485 0.00199437 0.00199509]\n",
      "The test score is: [0.67857143 0.73214286 0.67857143 0.73214286 0.69642857]\n",
      "The train score is: [0.76339286 0.74553571 0.75892857 0.73660714 0.75446429]\n",
      "\n",
      "****************************************************************************\n",
      "\n",
      "Cross validation scores with n_neighbours:  12\n",
      "The fit time is: [0.00099707 0.         0.0009973  0.0009985  0.00099754]\n",
      "The score time is: [0.00398946 0.00298834 0.00300241 0.00199389 0.00199485]\n",
      "The test score is: [0.71428571 0.73214286 0.66071429 0.71428571 0.69642857]\n",
      "The train score is: [0.75       0.74107143 0.74553571 0.73214286 0.73660714]\n",
      "\n",
      "****************************************************************************\n",
      "\n",
      "Cross validation scores with n_neighbours:  13\n",
      "The fit time is: [0.00099611 0.         0.00099707 0.00099802 0.        ]\n",
      "The score time is: [0.00299311 0.00199437 0.00199437 0.00199413 0.00199485]\n",
      "The test score is: [0.73214286 0.71428571 0.67857143 0.73214286 0.71428571]\n",
      "The train score is: [0.76339286 0.75       0.75446429 0.74107143 0.74553571]\n",
      "\n",
      "****************************************************************************\n",
      "\n",
      "Cross validation scores with n_neighbours:  14\n",
      "The fit time is: [0.00099444 0.00099111 0.         0.00099707 0.0009973 ]\n",
      "The score time is: [0.00398922 0.00199318 0.00299191 0.00398946 0.00299168]\n",
      "The test score is: [0.71428571 0.71428571 0.67857143 0.69642857 0.71428571]\n",
      "The train score is: [0.75892857 0.75       0.74107143 0.75446429 0.72767857]\n",
      "\n",
      "****************************************************************************\n",
      "\n"
     ]
    }
   ],
   "source": [
    "for i in range(2,15):\n",
    "    neighbors = KNeighborsClassifier(n_neighbors = i)\n",
    "    results = cross_validate(neighbors,X, y,cv=5, return_train_score= True)\n",
    "    print(\"Cross validation scores with n_neighbours: \",i)\n",
    "    print(\"The fit time is:\", results['fit_time'])\n",
    "    print(\"The score time is:\", results['score_time'])\n",
    "    print(\"The test score is:\", results['test_score'])\n",
    "    print(\"The train score is:\", results['train_score'])\n",
    "    print(\"\\n****************************************************************************\\n\")"
   ]
  },
  {
   "cell_type": "markdown",
   "metadata": {},
   "source": [
    "1.) Finding the best N_Neighbors from graph\n"
   ]
  },
  {
   "cell_type": "code",
   "execution_count": 9,
   "metadata": {},
   "outputs": [],
   "source": [
    "training_score = []\n",
    "testing_score = []\n",
    "\n",
    "for i in range(2,15):\n",
    "    neighbors = KNeighborsClassifier(n_neighbors = i)\n",
    "    neighbors.fit(X_train,y_train)\n",
    "    training_score.append(neighbors.score(X_train,y_train))\n",
    "    testing_score.append(neighbors.score(X_test,y_test))"
   ]
  },
  {
   "cell_type": "code",
   "execution_count": 10,
   "metadata": {},
   "outputs": [
    {
     "data": {
      "image/png": "[encoded data removed]",
      "text/plain": [
       "<Figure size 504x504 with 1 Axes>"
      ]
     },
     "metadata": {},
     "output_type": "display_data"
    }
   ],
   "source": [
    "n = [i for i in range(2,15)]\n",
    "# plt.plot(nodes,training_score)\n",
    "# plt.plot(nodes,testing_score)\n",
    "# plt.show()\n",
    "\n",
    "plt.figure(figsize=(7,7))\n",
    "plt.plot(n, training_score, '-o', label='Train')\n",
    "plt.plot(n, testing_score, '-o', label='Test')\n",
    "plt.title('Training Score && Testing Score VS N_neighbors')\n",
    "plt.xlabel(\"Number of n_neighbors\")\n",
    "plt.ylabel(\"Accuracy\")\n",
    "plt.axis()\n",
    "plt.legend()\n",
    "plt.show()"
   ]
  },
  {
   "cell_type": "markdown",
   "metadata": {},
   "source": [
    "2.) Finding the best model manually (tweaking some extra parameters)"
   ]
  },
  {
   "cell_type": "code",
   "execution_count": 11,
   "metadata": {},
   "outputs": [
    {
     "name": "stdout",
     "output_type": "stream",
     "text": [
      "Training score:  0.7991071428571429\n",
      "Testing score:  0.7321428571428571\n"
     ]
    }
   ],
   "source": [
    "neighbors = KNeighborsClassifier(n_neighbors = 2, weights = 'uniform')\n",
    "neighbors.fit(X_train,y_train)\n",
    "print(\"Training score: \", neighbors.score(X_train,y_train))\n",
    "print(\"Testing score: \", neighbors.score(X_test,y_test))"
   ]
  },
  {
   "cell_type": "code",
   "execution_count": 12,
   "metadata": {},
   "outputs": [
    {
     "name": "stdout",
     "output_type": "stream",
     "text": [
      "Training score:  1.0\n",
      "Testing score:  0.6428571428571429\n"
     ]
    }
   ],
   "source": [
    "neighbors = KNeighborsClassifier(n_neighbors = 2, weights = 'distance')\n",
    "neighbors.fit(X_train,y_train)\n",
    "print(\"Training score: \", neighbors.score(X_train,y_train))\n",
    "print(\"Testing score: \", neighbors.score(X_test,y_test))"
   ]
  },
  {
   "cell_type": "code",
   "execution_count": 13,
   "metadata": {},
   "outputs": [
    {
     "name": "stdout",
     "output_type": "stream",
     "text": [
      "Training score:  0.8214285714285714\n",
      "Testing score:  0.6964285714285714\n"
     ]
    }
   ],
   "source": [
    "neighbors = KNeighborsClassifier(n_neighbors = 3, weights = 'uniform')\n",
    "neighbors.fit(X_train,y_train)\n",
    "print(\"Training score: \", neighbors.score(X_train,y_train))\n",
    "print(\"Testing score: \", neighbors.score(X_test,y_test))"
   ]
  },
  {
   "cell_type": "code",
   "execution_count": 14,
   "metadata": {},
   "outputs": [
    {
     "name": "stdout",
     "output_type": "stream",
     "text": [
      "Training score:  1.0\n",
      "Testing score:  0.6607142857142857\n"
     ]
    }
   ],
   "source": [
    "neighbors = KNeighborsClassifier(n_neighbors = 3, weights = 'distance')\n",
    "neighbors.fit(X_train,y_train)\n",
    "print(\"Training score: \", neighbors.score(X_train,y_train))\n",
    "print(\"Testing score: \", neighbors.score(X_test,y_test))"
   ]
  },
  {
   "cell_type": "code",
   "execution_count": 15,
   "metadata": {},
   "outputs": [
    {
     "name": "stdout",
     "output_type": "stream",
     "text": [
      "Training score:  0.7589285714285714\n",
      "Testing score:  0.7142857142857143\n"
     ]
    }
   ],
   "source": [
    "neighbors = KNeighborsClassifier(n_neighbors = 4, weights = 'uniform')\n",
    "neighbors.fit(X_train,y_train)\n",
    "print(\"Training score: \", neighbors.score(X_train,y_train))\n",
    "print(\"Testing score: \", neighbors.score(X_test,y_test))"
   ]
  },
  {
   "cell_type": "code",
   "execution_count": 16,
   "metadata": {},
   "outputs": [
    {
     "name": "stdout",
     "output_type": "stream",
     "text": [
      "Training score:  1.0\n",
      "Testing score:  0.6607142857142857\n"
     ]
    }
   ],
   "source": [
    "neighbors = KNeighborsClassifier(n_neighbors = 4, weights = 'distance')\n",
    "neighbors.fit(X_train,y_train)\n",
    "print(\"Training score: \", neighbors.score(X_train,y_train))\n",
    "print(\"Testing score: \", neighbors.score(X_test,y_test))"
   ]
  },
  {
   "cell_type": "code",
   "execution_count": 17,
   "metadata": {},
   "outputs": [
    {
     "name": "stdout",
     "output_type": "stream",
     "text": [
      "Training score:  0.7901785714285714\n",
      "Testing score:  0.6428571428571429\n"
     ]
    }
   ],
   "source": [
    "neighbors = KNeighborsClassifier(n_neighbors = 5, weights = 'uniform')\n",
    "neighbors.fit(X_train,y_train)\n",
    "print(\"Training score: \", neighbors.score(X_train,y_train))\n",
    "print(\"Testing score: \", neighbors.score(X_test,y_test))"
   ]
  },
  {
   "cell_type": "code",
   "execution_count": 18,
   "metadata": {},
   "outputs": [
    {
     "name": "stdout",
     "output_type": "stream",
     "text": [
      "Training score:  1.0\n",
      "Testing score:  0.6785714285714286\n"
     ]
    }
   ],
   "source": [
    "neighbors = KNeighborsClassifier(n_neighbors = 5, weights = 'distance')\n",
    "neighbors.fit(X_train,y_train)\n",
    "print(\"Training score: \", neighbors.score(X_train,y_train))\n",
    "print(\"Testing score: \", neighbors.score(X_test,y_test))"
   ]
  },
  {
   "cell_type": "code",
   "execution_count": 19,
   "metadata": {},
   "outputs": [
    {
     "name": "stdout",
     "output_type": "stream",
     "text": [
      "Training score:  0.7544642857142857\n",
      "Testing score:  0.7678571428571429\n"
     ]
    }
   ],
   "source": [
    "neighbors = KNeighborsClassifier(n_neighbors = 6, weights = 'uniform')\n",
    "neighbors.fit(X_train,y_train)\n",
    "print(\"Training score: \", neighbors.score(X_train,y_train))\n",
    "print(\"Testing score: \", neighbors.score(X_test,y_test))"
   ]
  },
  {
   "cell_type": "code",
   "execution_count": 20,
   "metadata": {},
   "outputs": [
    {
     "name": "stdout",
     "output_type": "stream",
     "text": [
      "Training score:  1.0\n",
      "Testing score:  0.6785714285714286\n"
     ]
    }
   ],
   "source": [
    "neighbors = KNeighborsClassifier(n_neighbors = 6, weights = 'distance')\n",
    "neighbors.fit(X_train,y_train)\n",
    "print(\"Training score: \", neighbors.score(X_train,y_train))\n",
    "print(\"Testing score: \", neighbors.score(X_test,y_test))"
   ]
  },
  {
   "cell_type": "code",
   "execution_count": 21,
   "metadata": {},
   "outputs": [
    {
     "name": "stdout",
     "output_type": "stream",
     "text": [
      "Training score:  0.78125\n",
      "Testing score:  0.75\n"
     ]
    }
   ],
   "source": [
    "neighbors = KNeighborsClassifier(n_neighbors = 7, weights = 'uniform')\n",
    "neighbors.fit(X_train,y_train)\n",
    "print(\"Training score: \", neighbors.score(X_train,y_train))\n",
    "print(\"Testing score: \", neighbors.score(X_test,y_test))"
   ]
  },
  {
   "cell_type": "code",
   "execution_count": 22,
   "metadata": {},
   "outputs": [
    {
     "name": "stdout",
     "output_type": "stream",
     "text": [
      "Training score:  1.0\n",
      "Testing score:  0.75\n"
     ]
    }
   ],
   "source": [
    "neighbors = KNeighborsClassifier(n_neighbors = 7, weights = 'distance')\n",
    "neighbors.fit(X_train,y_train)\n",
    "print(\"Training score: \", neighbors.score(X_train,y_train))\n",
    "print(\"Testing score: \", neighbors.score(X_test,y_test))"
   ]
  },
  {
   "cell_type": "code",
   "execution_count": 23,
   "metadata": {},
   "outputs": [
    {
     "name": "stdout",
     "output_type": "stream",
     "text": [
      "Training score:  0.7455357142857143\n",
      "Testing score:  0.7857142857142857\n"
     ]
    }
   ],
   "source": [
    "neighbors = KNeighborsClassifier(n_neighbors = 8, weights = 'uniform')\n",
    "neighbors.fit(X_train,y_train)\n",
    "print(\"Training score: \", neighbors.score(X_train,y_train))\n",
    "print(\"Testing score: \", neighbors.score(X_test,y_test))"
   ]
  },
  {
   "cell_type": "code",
   "execution_count": 24,
   "metadata": {},
   "outputs": [
    {
     "name": "stdout",
     "output_type": "stream",
     "text": [
      "Training score:  1.0\n",
      "Testing score:  0.8035714285714286\n"
     ]
    }
   ],
   "source": [
    "neighbors = KNeighborsClassifier(n_neighbors = 8, weights = 'distance')\n",
    "neighbors.fit(X_train,y_train)\n",
    "print(\"Training score: \", neighbors.score(X_train,y_train))\n",
    "print(\"Testing score: \", neighbors.score(X_test,y_test))"
   ]
  },
  {
   "cell_type": "code",
   "execution_count": 25,
   "metadata": {},
   "outputs": [
    {
     "name": "stdout",
     "output_type": "stream",
     "text": [
      "Training score:  0.75\n",
      "Testing score:  0.7678571428571429\n"
     ]
    }
   ],
   "source": [
    "neighbors = KNeighborsClassifier(n_neighbors = 9, weights = 'uniform')\n",
    "neighbors.fit(X_train,y_train)\n",
    "print(\"Training score: \", neighbors.score(X_train,y_train))\n",
    "print(\"Testing score: \", neighbors.score(X_test,y_test))"
   ]
  },
  {
   "cell_type": "code",
   "execution_count": 26,
   "metadata": {},
   "outputs": [
    {
     "name": "stdout",
     "output_type": "stream",
     "text": [
      "Training score:  1.0\n",
      "Testing score:  0.7678571428571429\n"
     ]
    }
   ],
   "source": [
    "neighbors = KNeighborsClassifier(n_neighbors = 9, weights = 'distance')\n",
    "neighbors.fit(X_train,y_train)\n",
    "print(\"Training score: \", neighbors.score(X_train,y_train))\n",
    "print(\"Testing score: \", neighbors.score(X_test,y_test))"
   ]
  },
  {
   "cell_type": "markdown",
   "metadata": {},
   "source": [
    "Best KNN Model"
   ]
  },
  {
   "cell_type": "code",
   "execution_count": 27,
   "metadata": {},
   "outputs": [
    {
     "data": {
      "text/plain": [
       "KNeighborsClassifier(n_neighbors=6)"
      ]
     },
     "execution_count": 27,
     "metadata": {},
     "output_type": "execute_result"
    }
   ],
   "source": [
    "neighbors = KNeighborsClassifier(n_neighbors = 6, weights = 'uniform')\n",
    "neighbors.fit(X_train,y_train)"
   ]
  },
  {
   "cell_type": "code",
   "execution_count": 28,
   "metadata": {},
   "outputs": [
    {
     "data": {
      "text/plain": [
       "array([1., 0., 0., 0., 0., 0., 0., 0., 0., 0., 0., 0., 0., 0., 1., 0., 0.,\n",
       "       0., 0., 0., 0., 0., 0., 0., 1., 0., 0., 0., 0., 0., 0., 0., 0., 1.,\n",
       "       0., 0., 0., 0., 0., 0., 0., 0., 0., 0., 0., 0., 0., 0., 0., 0., 0.,\n",
       "       1., 0., 0., 0., 1.])"
      ]
     },
     "execution_count": 28,
     "metadata": {},
     "output_type": "execute_result"
    }
   ],
   "source": [
    "Predicted_values = neighbors.predict(X_test)\n",
    "Predicted_values "
   ]
  },
  {
   "cell_type": "code",
   "execution_count": 31,
   "metadata": {},
   "outputs": [
    {
     "name": "stdout",
     "output_type": "stream",
     "text": [
      "The training accuracy is: 0.7544642857142857\n",
      "The testing accuracy is: 0.7678571428571429 \n",
      "\n",
      "The precision for the model is: [0.78       0.66666667]\n",
      "The recall for the model is: [0.95121951 0.26666667]\n",
      "The F-score for the model is: [0.85714286 0.38095238]\n",
      "\n",
      "**************************************************\n",
      "\n",
      "For 'BINARY' average:\n",
      "The precision for the model is: 0.6666666666666666\n",
      "The recall for the model is: 0.26666666666666666\n",
      "The F-score for the model is: 0.3809523809523809\n",
      "\n",
      "**************************************************\n",
      "\n",
      "For 'MICRO' average:\n",
      "The precision for the model is: 0.7678571428571429\n",
      "The recall for the model is: 0.7678571428571429\n",
      "The F-score for the model is: 0.7678571428571429\n",
      "\n",
      "**************************************************\n",
      "\n",
      "For 'MACRO' average:\n",
      "The precision for the model is: 0.7233333333333334\n",
      "The recall for the model is: 0.6089430894308943\n",
      "The F-score for the model is: 0.619047619047619\n",
      "\n",
      "**************************************************\n",
      "\n",
      "For 'WEIGHTED' average:\n",
      "The precision for the model is: 0.7496428571428572\n",
      "The recall for the model is: 0.7678571428571429\n",
      "The F-score for the model is: 0.7295918367346939\n",
      "\n",
      "**************************************************\n"
     ]
    }
   ],
   "source": [
    "print(\"The training accuracy is:\", neighbors.score(X_train,y_train))\n",
    "print(\"The testing accuracy is:\", neighbors.score(X_test,y_test),\"\\n\")\n",
    "\n",
    "detailed_summary = precision_recall_fscore_support(y_test, Predicted_values)\n",
    "print(\"The precision for the model is:\",detailed_summary[0])\n",
    "print(\"The recall for the model is:\",detailed_summary[1])\n",
    "print(\"The F-score for the model is:\",detailed_summary[2])\n",
    "print(\"\\n**************************************************\\n\")\n",
    "detailed_summary = precision_recall_fscore_support(y_test, Predicted_values, average='binary')\n",
    "print(\"For 'BINARY' average:\")\n",
    "print(\"The precision for the model is:\",detailed_summary[0])\n",
    "print(\"The recall for the model is:\",detailed_summary[1])\n",
    "print(\"The F-score for the model is:\",detailed_summary[2])\n",
    "print(\"\\n**************************************************\\n\")\n",
    "detailed_summary = precision_recall_fscore_support(y_test, Predicted_values, average='micro')\n",
    "print(\"For 'MICRO' average:\")\n",
    "print(\"The precision for the model is:\",detailed_summary[0])\n",
    "print(\"The recall for the model is:\",detailed_summary[1])\n",
    "print(\"The F-score for the model is:\",detailed_summary[2])\n",
    "print(\"\\n**************************************************\\n\")\n",
    "detailed_summary = precision_recall_fscore_support(y_test, Predicted_values, average='macro')\n",
    "print(\"For 'MACRO' average:\")\n",
    "print(\"The precision for the model is:\",detailed_summary[0])\n",
    "print(\"The recall for the model is:\",detailed_summary[1])\n",
    "print(\"The F-score for the model is:\",detailed_summary[2])\n",
    "print(\"\\n**************************************************\\n\")\n",
    "detailed_summary = precision_recall_fscore_support(y_test, Predicted_values, average='weighted')\n",
    "print(\"For 'WEIGHTED' average:\")\n",
    "print(\"The precision for the model is:\",detailed_summary[0])\n",
    "print(\"The recall for the model is:\",detailed_summary[1])\n",
    "print(\"The F-score for the model is:\",detailed_summary[2])\n",
    "print(\"\\n**************************************************\")"
   ]
  },
  {
   "cell_type": "code",
   "execution_count": 32,
   "metadata": {},
   "outputs": [
    {
     "data": {
      "text/plain": [
       "0.7678571428571429"
      ]
     },
     "execution_count": 32,
     "metadata": {},
     "output_type": "execute_result"
    }
   ],
   "source": [
    "accuracy_score(y_test, Predicted_values)"
   ]
  },
  {
   "cell_type": "code",
   "execution_count": 33,
   "metadata": {},
   "outputs": [
    {
     "data": {
      "text/plain": [
       "array([[39,  2],\n",
       "       [11,  4]], dtype=int64)"
      ]
     },
     "execution_count": 33,
     "metadata": {},
     "output_type": "execute_result"
    }
   ],
   "source": [
    "confusion_matrix(y_test, Predicted_values)"
   ]
  },
  {
   "cell_type": "code",
   "execution_count": 37,
   "metadata": {},
   "outputs": [
    {
     "name": "stdout",
     "output_type": "stream",
     "text": [
      "              precision    recall  f1-score   support\n",
      "\n",
      "         0.0       0.78      0.95      0.86        41\n",
      "         1.0       0.67      0.27      0.38        15\n",
      "\n",
      "    accuracy                           0.77        56\n",
      "   macro avg       0.72      0.61      0.62        56\n",
      "weighted avg       0.75      0.77      0.73        56\n",
      "\n"
     ]
    }
   ],
   "source": [
    "print(classification_report(y_test, Predicted_values))"
   ]
  },
  {
   "cell_type": "markdown",
   "metadata": {},
   "source": [
    "# Naïve Bayes Classifier\n"
   ]
  },
  {
   "cell_type": "markdown",
   "metadata": {},
   "source": [
    "Cross Validation"
   ]
  },
  {
   "cell_type": "code",
   "execution_count": 38,
   "metadata": {},
   "outputs": [
    {
     "name": "stdout",
     "output_type": "stream",
     "text": [
      "Cross validation scores with var smoothing:  1e-10\n",
      "The fit time is: [0.0019896  0.00099707 0.         0.00099492 0.00199604]\n",
      "The score time is: [0.00102329 0.         0.0009973  0.         0.00100088]\n",
      "The test score is: [0.69642857 0.82142857 0.82142857 0.89285714 0.71428571]\n",
      "The train score is: [0.875      0.8125     0.81696429 0.80803571 0.875     ]\n",
      "\n",
      "****************************************************************************\n",
      "\n",
      "Cross validation scores with var smoothing:  1e-05\n",
      "The fit time is: [0.0010016  0.00099611 0.0010004  0.0009973  0.00204635]\n",
      "The score time is: [0.00095987 0.         0.         0.00099683 0.00099635]\n",
      "The test score is: [0.69642857 0.82142857 0.82142857 0.89285714 0.71428571]\n",
      "The train score is: [0.875      0.8125     0.81696429 0.80803571 0.875     ]\n",
      "\n",
      "****************************************************************************\n",
      "\n",
      "Cross validation scores with var smoothing:  1\n",
      "The fit time is: [0.0009923  0.00099635 0.00099564 0.         0.00096965]\n",
      "The score time is: [0.         0.00099945 0.         0.00099063 0.00099778]\n",
      "The test score is: [0.67857143 0.71428571 0.69642857 0.69642857 0.69642857]\n",
      "The train score is: [0.70089286 0.70535714 0.69196429 0.69196429 0.69196429]\n",
      "\n",
      "****************************************************************************\n",
      "\n",
      "Cross validation scores with var smoothing:  100000\n",
      "The fit time is: [0.00198436 0.00099778 0.00099826 0.         0.00099802]\n",
      "The score time is: [0.00099254 0.00099969 0.         0.00099683 0.        ]\n",
      "The test score is: [0.67857143 0.69642857 0.69642857 0.69642857 0.69642857]\n",
      "The train score is: [0.69642857 0.69196429 0.69196429 0.69196429 0.69196429]\n",
      "\n",
      "****************************************************************************\n",
      "\n"
     ]
    }
   ],
   "source": [
    "for i in range(-10,10,5):\n",
    "    nb = GaussianNB(var_smoothing = pow(10,i))\n",
    "    results = cross_validate(nb,X,y,cv=5, return_train_score= True)\n",
    "    print(\"Cross validation scores with var smoothing: \", pow(10,i))\n",
    "    print(\"The fit time is:\", results['fit_time'])\n",
    "    print(\"The score time is:\", results['score_time'])\n",
    "    print(\"The test score is:\", results['test_score'])\n",
    "    print(\"The train score is:\", results['train_score'])\n",
    "    print(\"\\n****************************************************************************\\n\")"
   ]
  },
  {
   "cell_type": "markdown",
   "metadata": {},
   "source": [
    "1.) Finding best var smoothing value from graph"
   ]
  },
  {
   "cell_type": "code",
   "execution_count": 39,
   "metadata": {},
   "outputs": [],
   "source": [
    "training_score = []\n",
    "testing_score = []\n",
    "\n",
    "for i in range(-10,10,5):\n",
    "    nb = GaussianNB(var_smoothing = pow(10,i))\n",
    "    nb.fit(X_train,y_train)\n",
    "    training_score.append(nb.score(X_train,y_train))\n",
    "    testing_score.append(nb.score(X_test,y_test))"
   ]
  },
  {
   "cell_type": "code",
   "execution_count": 40,
   "metadata": {},
   "outputs": [
    {
     "data": {
      "image/png": "[encoded data removed]",
      "text/plain": [
       "<Figure size 504x504 with 1 Axes>"
      ]
     },
     "metadata": {},
     "output_type": "display_data"
    }
   ],
   "source": [
    "var_smooth = [i for i in range(-10,10,5)]\n",
    "# plt.plot(nodes,training_score)\n",
    "# plt.plot(nodes,testing_score)\n",
    "# plt.show()\n",
    "\n",
    "plt.figure(figsize=(7,7))\n",
    "plt.plot(var_smooth, training_score, '-o', label='Train')\n",
    "plt.plot(var_smooth, testing_score, '-o', label='Test')\n",
    "plt.title('Training Score && Testing Score VS var_smoothing')\n",
    "plt.xlabel(\"Var_smoothing value\")\n",
    "plt.ylabel(\"Accuracy\")\n",
    "plt.axis()\n",
    "plt.legend()\n",
    "plt.show()"
   ]
  },
  {
   "cell_type": "markdown",
   "metadata": {},
   "source": [
    "2.) Finding best model manually"
   ]
  },
  {
   "cell_type": "code",
   "execution_count": 41,
   "metadata": {},
   "outputs": [
    {
     "name": "stdout",
     "output_type": "stream",
     "text": [
      "Testing scores with var smoothing:  1e-10\n",
      "Training score:  0.8348214285714286\n",
      "Testing score:  0.8214285714285714\n",
      "\n",
      "****************************************************************************\n",
      "\n",
      "Testing scores with var smoothing:  1e-08\n",
      "Training score:  0.8348214285714286\n",
      "Testing score:  0.8214285714285714\n",
      "\n",
      "****************************************************************************\n",
      "\n",
      "Testing scores with var smoothing:  1e-06\n",
      "Training score:  0.8348214285714286\n",
      "Testing score:  0.8214285714285714\n",
      "\n",
      "****************************************************************************\n",
      "\n",
      "Testing scores with var smoothing:  0.0001\n",
      "Training score:  0.8392857142857143\n",
      "Testing score:  0.8214285714285714\n",
      "\n",
      "****************************************************************************\n",
      "\n",
      "Testing scores with var smoothing:  0.01\n",
      "Training score:  0.8526785714285714\n",
      "Testing score:  0.8392857142857143\n",
      "\n",
      "****************************************************************************\n",
      "\n",
      "Testing scores with var smoothing:  1\n",
      "Training score:  0.6964285714285714\n",
      "Testing score:  0.7321428571428571\n",
      "\n",
      "****************************************************************************\n",
      "\n",
      "Testing scores with var smoothing:  100\n",
      "Training score:  0.6830357142857143\n",
      "Testing score:  0.7321428571428571\n",
      "\n",
      "****************************************************************************\n",
      "\n",
      "Testing scores with var smoothing:  10000\n",
      "Training score:  0.6830357142857143\n",
      "Testing score:  0.7321428571428571\n",
      "\n",
      "****************************************************************************\n",
      "\n",
      "Testing scores with var smoothing:  1000000\n",
      "Training score:  0.6830357142857143\n",
      "Testing score:  0.7321428571428571\n",
      "\n",
      "****************************************************************************\n",
      "\n",
      "Testing scores with var smoothing:  100000000\n",
      "Training score:  0.6830357142857143\n",
      "Testing score:  0.7321428571428571\n",
      "\n",
      "****************************************************************************\n",
      "\n"
     ]
    }
   ],
   "source": [
    "for i in range(-10,10,2):\n",
    "    nb = GaussianNB(var_smoothing = pow(10,i))\n",
    "    nb.fit(X_train,y_train)\n",
    "    print(\"Testing scores with var smoothing: \", pow(10,i))\n",
    "    print(\"Training score: \", nb.score(X_train,y_train))\n",
    "    print(\"Testing score: \", nb.score(X_test,y_test))\n",
    "    print(\"\\n****************************************************************************\\n\")\n",
    "    "
   ]
  },
  {
   "cell_type": "markdown",
   "metadata": {},
   "source": [
    "Best Naïve Bayes Classifier"
   ]
  },
  {
   "cell_type": "code",
   "execution_count": 42,
   "metadata": {},
   "outputs": [
    {
     "data": {
      "text/plain": [
       "GaussianNB(var_smoothing=0.0001)"
      ]
     },
     "execution_count": 42,
     "metadata": {},
     "output_type": "execute_result"
    }
   ],
   "source": [
    "nb = GaussianNB(var_smoothing = pow(10,-4))\n",
    "nb.fit(X_train, y_train)"
   ]
  },
  {
   "cell_type": "code",
   "execution_count": 43,
   "metadata": {},
   "outputs": [
    {
     "data": {
      "text/plain": [
       "array([1., 1., 0., 0., 1., 0., 0., 0., 1., 0., 1., 0., 0., 0., 1., 0., 1.,\n",
       "       1., 0., 0., 0., 0., 0., 0., 1., 1., 1., 0., 1., 0., 1., 0., 0., 0.,\n",
       "       0., 0., 1., 0., 0., 0., 0., 0., 0., 0., 0., 0., 0., 0., 0., 1., 0.,\n",
       "       1., 0., 0., 0., 1.])"
      ]
     },
     "execution_count": 43,
     "metadata": {},
     "output_type": "execute_result"
    }
   ],
   "source": [
    "Predicted_values = nb.predict(X_test)\n",
    "Predicted_values"
   ]
  },
  {
   "cell_type": "code",
   "execution_count": 44,
   "metadata": {},
   "outputs": [
    {
     "name": "stdout",
     "output_type": "stream",
     "text": [
      "The training accuracy is: 0.7544642857142857\n",
      "The testing accuracy is: 0.7678571428571429 \n",
      "\n",
      "The precision for the model is: [0.8974359  0.64705882]\n",
      "The recall for the model is: [0.85365854 0.73333333]\n",
      "The F-score for the model is: [0.875  0.6875]\n",
      "\n",
      "**************************************************\n",
      "\n",
      "The precision for the model is: 0.6470588235294118\n",
      "The recall for the model is: 0.7333333333333333\n",
      "The F-score for the model is: 0.6875\n",
      "\n",
      "***************************************************\n",
      "For 'MICRO' average:\n",
      "The precision for the model is: 0.8214285714285714\n",
      "The recall for the model is: 0.8214285714285714\n",
      "The F-score for the model is: 0.8214285714285714\n",
      "\n",
      "**************************************************\n",
      "\n",
      "For 'MACRO' average:\n",
      "The precision for the model is: 0.7722473604826546\n",
      "The recall for the model is: 0.7934959349593496\n",
      "The F-score for the model is: 0.78125\n",
      "\n",
      "**************************************************\n",
      "\n",
      "For 'WEIGHTED' average:\n",
      "The precision for the model is: 0.8303706097823744\n",
      "The recall for the model is: 0.8214285714285714\n",
      "The F-score for the model is: 0.8247767857142857\n",
      "\n",
      "**************************************************\n"
     ]
    }
   ],
   "source": [
    "print(\"The training accuracy is:\", neighbors.score(X_train,y_train))\n",
    "print(\"The testing accuracy is:\", neighbors.score(X_test,y_test),\"\\n\")\n",
    "\n",
    "detailed_summary = precision_recall_fscore_support(y_test, Predicted_values)\n",
    "print(\"The precision for the model is:\",detailed_summary[0])\n",
    "print(\"The recall for the model is:\",detailed_summary[1])\n",
    "print(\"The F-score for the model is:\",detailed_summary[2])\n",
    "print(\"\\n**************************************************\\n\")\n",
    "detailed_summary = precision_recall_fscore_support(y_test, Predicted_values, average='binary')\n",
    "print(\"The precision for the model is:\",detailed_summary[0])\n",
    "print(\"The recall for the model is:\",detailed_summary[1])\n",
    "print(\"The F-score for the model is:\",detailed_summary[2])\n",
    "print(\"\\n***************************************************\")\n",
    "detailed_summary = precision_recall_fscore_support(y_test, Predicted_values, average='micro')\n",
    "print(\"For 'MICRO' average:\")\n",
    "print(\"The precision for the model is:\",detailed_summary[0])\n",
    "print(\"The recall for the model is:\",detailed_summary[1])\n",
    "print(\"The F-score for the model is:\",detailed_summary[2])\n",
    "print(\"\\n**************************************************\\n\")\n",
    "detailed_summary = precision_recall_fscore_support(y_test, Predicted_values, average='macro')\n",
    "print(\"For 'MACRO' average:\")\n",
    "print(\"The precision for the model is:\",detailed_summary[0])\n",
    "print(\"The recall for the model is:\",detailed_summary[1])\n",
    "print(\"The F-score for the model is:\",detailed_summary[2])\n",
    "print(\"\\n**************************************************\\n\")\n",
    "detailed_summary = precision_recall_fscore_support(y_test, Predicted_values, average='weighted')\n",
    "print(\"For 'WEIGHTED' average:\")\n",
    "print(\"The precision for the model is:\",detailed_summary[0])\n",
    "print(\"The recall for the model is:\",detailed_summary[1])\n",
    "print(\"The F-score for the model is:\",detailed_summary[2])\n",
    "print(\"\\n**************************************************\")"
   ]
  },
  {
   "cell_type": "code",
   "execution_count": 45,
   "metadata": {},
   "outputs": [
    {
     "data": {
      "text/plain": [
       "0.8214285714285714"
      ]
     },
     "execution_count": 45,
     "metadata": {},
     "output_type": "execute_result"
    }
   ],
   "source": [
    "accuracy_score(y_test, Predicted_values)"
   ]
  },
  {
   "cell_type": "code",
   "execution_count": 46,
   "metadata": {},
   "outputs": [
    {
     "data": {
      "text/plain": [
       "array([[35,  6],\n",
       "       [ 4, 11]], dtype=int64)"
      ]
     },
     "execution_count": 46,
     "metadata": {},
     "output_type": "execute_result"
    }
   ],
   "source": [
    "confusion_matrix(y_test, Predicted_values)"
   ]
  },
  {
   "cell_type": "code",
   "execution_count": 47,
   "metadata": {},
   "outputs": [
    {
     "name": "stdout",
     "output_type": "stream",
     "text": [
      "              precision    recall  f1-score   support\n",
      "\n",
      "         0.0       0.90      0.85      0.88        41\n",
      "         1.0       0.65      0.73      0.69        15\n",
      "\n",
      "    accuracy                           0.82        56\n",
      "   macro avg       0.77      0.79      0.78        56\n",
      "weighted avg       0.83      0.82      0.82        56\n",
      "\n"
     ]
    }
   ],
   "source": [
    "print(classification_report(y_test, Predicted_values))"
   ]
  }
 ],
 "metadata": {
  "kernelspec": {
   "display_name": "Python 3",
   "language": "python",
   "name": "python3"
  },
  "language_info": {
   "codemirror_mode": {
    "name": "ipython",
    "version": 3
   },
   "file_extension": ".py",
   "mimetype": "text/x-python",
   "name": "python",
   "nbconvert_exporter": "python",
   "pygments_lexer": "ipython3",
   "version": "3.8.5"
  }
 },
 "nbformat": 4,
 "nbformat_minor": 4
}
