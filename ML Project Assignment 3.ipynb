{
 "cells": [
  {
   "cell_type": "markdown",
   "metadata": {},
   "source": [
    "# Importing Necessary Libraries"
   ]
  },
  {
   "cell_type": "code",
   "execution_count": 1,
   "metadata": {},
   "outputs": [],
   "source": [
    "import numpy as np\n",
    "import pandas as pd\n",
    "from sklearn import svm\n",
    "from sklearn.svm import LinearSVC\n",
    "from sklearn.model_selection import train_test_split\n",
    "from sklearn.model_selection import cross_validate\n",
    "from sklearn import preprocessing\n",
    "import matplotlib.pyplot as plt\n",
    "from sklearn.model_selection import GridSearchCV\n",
    "import seaborn as sns\n",
    "sns.set()"
   ]
  },
  {
   "cell_type": "markdown",
   "metadata": {},
   "source": [
    "# Reading the data"
   ]
  },
  {
   "cell_type": "code",
   "execution_count": 2,
   "metadata": {},
   "outputs": [
    {
     "data": {
      "text/html": [
       "<div>\n",
       "<style scoped>\n",
       "    .dataframe tbody tr th:only-of-type {\n",
       "        vertical-align: middle;\n",
       "    }\n",
       "\n",
       "    .dataframe tbody tr th {\n",
       "        vertical-align: top;\n",
       "    }\n",
       "\n",
       "    .dataframe thead th {\n",
       "        text-align: right;\n",
       "    }\n",
       "</style>\n",
       "<table border=\"1\" class=\"dataframe\">\n",
       "  <thead>\n",
       "    <tr style=\"text-align: right;\">\n",
       "      <th></th>\n",
       "      <th>age</th>\n",
       "      <th>anaemia</th>\n",
       "      <th>creatinine_phosphokinase</th>\n",
       "      <th>diabetes</th>\n",
       "      <th>ejection_fraction</th>\n",
       "      <th>high_blood_pressure</th>\n",
       "      <th>platelets</th>\n",
       "      <th>serum_creatinine</th>\n",
       "      <th>serum_sodium</th>\n",
       "      <th>sex</th>\n",
       "      <th>smoking</th>\n",
       "      <th>time</th>\n",
       "      <th>DEATH_EVENT</th>\n",
       "    </tr>\n",
       "  </thead>\n",
       "  <tbody>\n",
       "    <tr>\n",
       "      <th>0</th>\n",
       "      <td>75.0</td>\n",
       "      <td>0</td>\n",
       "      <td>582</td>\n",
       "      <td>0</td>\n",
       "      <td>20</td>\n",
       "      <td>1</td>\n",
       "      <td>265000.00</td>\n",
       "      <td>1.9</td>\n",
       "      <td>130</td>\n",
       "      <td>1</td>\n",
       "      <td>0</td>\n",
       "      <td>4</td>\n",
       "      <td>1</td>\n",
       "    </tr>\n",
       "    <tr>\n",
       "      <th>1</th>\n",
       "      <td>55.0</td>\n",
       "      <td>0</td>\n",
       "      <td>7861</td>\n",
       "      <td>0</td>\n",
       "      <td>38</td>\n",
       "      <td>0</td>\n",
       "      <td>263358.03</td>\n",
       "      <td>1.1</td>\n",
       "      <td>136</td>\n",
       "      <td>1</td>\n",
       "      <td>0</td>\n",
       "      <td>6</td>\n",
       "      <td>1</td>\n",
       "    </tr>\n",
       "    <tr>\n",
       "      <th>2</th>\n",
       "      <td>65.0</td>\n",
       "      <td>0</td>\n",
       "      <td>146</td>\n",
       "      <td>0</td>\n",
       "      <td>20</td>\n",
       "      <td>0</td>\n",
       "      <td>162000.00</td>\n",
       "      <td>1.3</td>\n",
       "      <td>129</td>\n",
       "      <td>1</td>\n",
       "      <td>1</td>\n",
       "      <td>7</td>\n",
       "      <td>1</td>\n",
       "    </tr>\n",
       "    <tr>\n",
       "      <th>3</th>\n",
       "      <td>50.0</td>\n",
       "      <td>1</td>\n",
       "      <td>111</td>\n",
       "      <td>0</td>\n",
       "      <td>20</td>\n",
       "      <td>0</td>\n",
       "      <td>210000.00</td>\n",
       "      <td>1.9</td>\n",
       "      <td>137</td>\n",
       "      <td>1</td>\n",
       "      <td>0</td>\n",
       "      <td>7</td>\n",
       "      <td>1</td>\n",
       "    </tr>\n",
       "    <tr>\n",
       "      <th>4</th>\n",
       "      <td>65.0</td>\n",
       "      <td>1</td>\n",
       "      <td>160</td>\n",
       "      <td>1</td>\n",
       "      <td>20</td>\n",
       "      <td>0</td>\n",
       "      <td>327000.00</td>\n",
       "      <td>2.7</td>\n",
       "      <td>116</td>\n",
       "      <td>0</td>\n",
       "      <td>0</td>\n",
       "      <td>8</td>\n",
       "      <td>1</td>\n",
       "    </tr>\n",
       "  </tbody>\n",
       "</table>\n",
       "</div>"
      ],
      "text/plain": [
       "    age  anaemia  creatinine_phosphokinase  diabetes  ejection_fraction  \\\n",
       "0  75.0        0                       582         0                 20   \n",
       "1  55.0        0                      7861         0                 38   \n",
       "2  65.0        0                       146         0                 20   \n",
       "3  50.0        1                       111         0                 20   \n",
       "4  65.0        1                       160         1                 20   \n",
       "\n",
       "   high_blood_pressure  platelets  serum_creatinine  serum_sodium  sex  \\\n",
       "0                    1  265000.00               1.9           130    1   \n",
       "1                    0  263358.03               1.1           136    1   \n",
       "2                    0  162000.00               1.3           129    1   \n",
       "3                    0  210000.00               1.9           137    1   \n",
       "4                    0  327000.00               2.7           116    0   \n",
       "\n",
       "   smoking  time  DEATH_EVENT  \n",
       "0        0     4            1  \n",
       "1        0     6            1  \n",
       "2        1     7            1  \n",
       "3        0     7            1  \n",
       "4        0     8            1  "
      ]
     },
     "execution_count": 2,
     "metadata": {},
     "output_type": "execute_result"
    }
   ],
   "source": [
    "data = pd.read_csv('heart_failure_clinical_records_dataset.csv') \n",
    "data.head(5)"
   ]
  },
  {
   "cell_type": "markdown",
   "metadata": {},
   "source": [
    "# Scaling the data"
   ]
  },
  {
   "cell_type": "code",
   "execution_count": 3,
   "metadata": {},
   "outputs": [
    {
     "data": {
      "text/html": [
       "<div>\n",
       "<style scoped>\n",
       "    .dataframe tbody tr th:only-of-type {\n",
       "        vertical-align: middle;\n",
       "    }\n",
       "\n",
       "    .dataframe tbody tr th {\n",
       "        vertical-align: top;\n",
       "    }\n",
       "\n",
       "    .dataframe thead th {\n",
       "        text-align: right;\n",
       "    }\n",
       "</style>\n",
       "<table border=\"1\" class=\"dataframe\">\n",
       "  <thead>\n",
       "    <tr style=\"text-align: right;\">\n",
       "      <th></th>\n",
       "      <th>age</th>\n",
       "      <th>anaemia</th>\n",
       "      <th>creatinine_phosphokinase</th>\n",
       "      <th>diabetes</th>\n",
       "      <th>ejection_fraction</th>\n",
       "      <th>high_blood_pressure</th>\n",
       "      <th>platelets</th>\n",
       "      <th>serum_creatinine</th>\n",
       "      <th>serum_sodium</th>\n",
       "      <th>sex</th>\n",
       "      <th>smoking</th>\n",
       "      <th>time</th>\n",
       "      <th>DEATH_EVENT</th>\n",
       "    </tr>\n",
       "  </thead>\n",
       "  <tbody>\n",
       "    <tr>\n",
       "      <th>0</th>\n",
       "      <td>0.636364</td>\n",
       "      <td>0</td>\n",
       "      <td>0.071319</td>\n",
       "      <td>0</td>\n",
       "      <td>0.090909</td>\n",
       "      <td>1</td>\n",
       "      <td>0.290823</td>\n",
       "      <td>0.157303</td>\n",
       "      <td>0.485714</td>\n",
       "      <td>1</td>\n",
       "      <td>0</td>\n",
       "      <td>0.000000</td>\n",
       "      <td>1</td>\n",
       "    </tr>\n",
       "    <tr>\n",
       "      <th>1</th>\n",
       "      <td>0.272727</td>\n",
       "      <td>0</td>\n",
       "      <td>1.000000</td>\n",
       "      <td>0</td>\n",
       "      <td>0.363636</td>\n",
       "      <td>0</td>\n",
       "      <td>0.288833</td>\n",
       "      <td>0.067416</td>\n",
       "      <td>0.657143</td>\n",
       "      <td>1</td>\n",
       "      <td>0</td>\n",
       "      <td>0.007117</td>\n",
       "      <td>1</td>\n",
       "    </tr>\n",
       "    <tr>\n",
       "      <th>2</th>\n",
       "      <td>0.454545</td>\n",
       "      <td>0</td>\n",
       "      <td>0.015693</td>\n",
       "      <td>0</td>\n",
       "      <td>0.090909</td>\n",
       "      <td>0</td>\n",
       "      <td>0.165960</td>\n",
       "      <td>0.089888</td>\n",
       "      <td>0.457143</td>\n",
       "      <td>1</td>\n",
       "      <td>1</td>\n",
       "      <td>0.010676</td>\n",
       "      <td>1</td>\n",
       "    </tr>\n",
       "    <tr>\n",
       "      <th>3</th>\n",
       "      <td>0.181818</td>\n",
       "      <td>1</td>\n",
       "      <td>0.011227</td>\n",
       "      <td>0</td>\n",
       "      <td>0.090909</td>\n",
       "      <td>0</td>\n",
       "      <td>0.224148</td>\n",
       "      <td>0.157303</td>\n",
       "      <td>0.685714</td>\n",
       "      <td>1</td>\n",
       "      <td>0</td>\n",
       "      <td>0.010676</td>\n",
       "      <td>1</td>\n",
       "    </tr>\n",
       "    <tr>\n",
       "      <th>4</th>\n",
       "      <td>0.454545</td>\n",
       "      <td>1</td>\n",
       "      <td>0.017479</td>\n",
       "      <td>1</td>\n",
       "      <td>0.090909</td>\n",
       "      <td>0</td>\n",
       "      <td>0.365984</td>\n",
       "      <td>0.247191</td>\n",
       "      <td>0.085714</td>\n",
       "      <td>0</td>\n",
       "      <td>0</td>\n",
       "      <td>0.014235</td>\n",
       "      <td>1</td>\n",
       "    </tr>\n",
       "  </tbody>\n",
       "</table>\n",
       "</div>"
      ],
      "text/plain": [
       "        age  anaemia  creatinine_phosphokinase  diabetes  ejection_fraction  \\\n",
       "0  0.636364        0                  0.071319         0           0.090909   \n",
       "1  0.272727        0                  1.000000         0           0.363636   \n",
       "2  0.454545        0                  0.015693         0           0.090909   \n",
       "3  0.181818        1                  0.011227         0           0.090909   \n",
       "4  0.454545        1                  0.017479         1           0.090909   \n",
       "\n",
       "   high_blood_pressure  platelets  serum_creatinine  serum_sodium  sex  \\\n",
       "0                    1   0.290823          0.157303      0.485714    1   \n",
       "1                    0   0.288833          0.067416      0.657143    1   \n",
       "2                    0   0.165960          0.089888      0.457143    1   \n",
       "3                    0   0.224148          0.157303      0.685714    1   \n",
       "4                    0   0.365984          0.247191      0.085714    0   \n",
       "\n",
       "   smoking      time  DEATH_EVENT  \n",
       "0        0  0.000000            1  \n",
       "1        0  0.007117            1  \n",
       "2        1  0.010676            1  \n",
       "3        0  0.010676            1  \n",
       "4        0  0.014235            1  "
      ]
     },
     "execution_count": 3,
     "metadata": {},
     "output_type": "execute_result"
    }
   ],
   "source": [
    "Min_max = preprocessing.MinMaxScaler(feature_range = (0,1))\n",
    "\n",
    "data['age'] = Min_max.fit_transform(data[['age']])\n",
    "data['creatinine_phosphokinase'] = Min_max.fit_transform(data[['creatinine_phosphokinase']])\n",
    "data['ejection_fraction'] = Min_max.fit_transform(data[['ejection_fraction']])\n",
    "data['platelets'] = Min_max.fit_transform(data[['platelets']])\n",
    "data['serum_creatinine'] = Min_max.fit_transform(data[['serum_creatinine']])\n",
    "data['serum_sodium'] = Min_max.fit_transform(data[['serum_sodium']])\n",
    "data['time'] = Min_max.fit_transform(data[['time']])\n",
    "\n",
    "data.head()"
   ]
  },
  {
   "cell_type": "code",
   "execution_count": 4,
   "metadata": {},
   "outputs": [],
   "source": [
    "X = data.iloc[:,:12].to_numpy()\n",
    "y = data.iloc[:,12:].to_numpy()"
   ]
  },
  {
   "cell_type": "markdown",
   "metadata": {},
   "source": [
    "# LinearSVC Model"
   ]
  },
  {
   "cell_type": "code",
   "execution_count": 5,
   "metadata": {},
   "outputs": [
    {
     "data": {
      "text/plain": [
       "LinearSVC(dual=False, max_iter=5000)"
      ]
     },
     "execution_count": 5,
     "metadata": {},
     "output_type": "execute_result"
    }
   ],
   "source": [
    "svc = LinearSVC(max_iter = 5000, dual = False)\n",
    "svc.fit(X, np.ravel(y))\n",
    "svc"
   ]
  },
  {
   "cell_type": "code",
   "execution_count": 6,
   "metadata": {},
   "outputs": [
    {
     "name": "stdout",
     "output_type": "stream",
     "text": [
      "The training accuracy score is: 0.8561872909698997\n",
      "===================================================\n",
      "The testing accuracy score is: 0.8561872909698997\n"
     ]
    }
   ],
   "source": [
    "print(\"The training accuracy score is:\", svc.score(X, np.ravel(y)))\n",
    "print(\"===================================================\")\n",
    "print(\"The testing accuracy score is:\", svc.score(X, np.ravel(y)))"
   ]
  },
  {
   "cell_type": "code",
   "execution_count": 7,
   "metadata": {},
   "outputs": [
    {
     "name": "stdout",
     "output_type": "stream",
     "text": [
      "The fit time is: [0.00099778 0.00199461 0.00099397 0.00099945 0.00099635]\n",
      "The score time is: [0.00099897 0.00098848 0.00100732 0.         0.        ]\n",
      "The test score is: [0.65       0.8        0.86666667 0.85       0.6779661 ]\n",
      "The train score is: [0.86192469 0.83682008 0.83263598 0.83682008 0.89583333]\n"
     ]
    }
   ],
   "source": [
    "results = cross_validate(svc,X, np.ravel(y),cv=5, return_train_score= True)\n",
    "print(\"The fit time is:\", results['fit_time'])\n",
    "print(\"The score time is:\", results['score_time'])\n",
    "print(\"The test score is:\", results['test_score'])\n",
    "print(\"The train score is:\", results['train_score'])"
   ]
  },
  {
   "cell_type": "markdown",
   "metadata": {},
   "source": [
    "# SVC (Linear)"
   ]
  },
  {
   "cell_type": "code",
   "execution_count": 8,
   "metadata": {},
   "outputs": [
    {
     "data": {
      "text/plain": [
       "{'mean_fit_time': array([0.0017827 , 0.00259318]),\n",
       " 'std_fit_time': array([0.00074521, 0.00048932]),\n",
       " 'mean_score_time': array([0.00079885, 0.00040193]),\n",
       " 'std_score_time': array([0.00074709, 0.00049228]),\n",
       " 'param_C': masked_array(data=[1, 10],\n",
       "              mask=[False, False],\n",
       "        fill_value='?',\n",
       "             dtype=object),\n",
       " 'param_kernel': masked_array(data=['linear', 'linear'],\n",
       "              mask=[False, False],\n",
       "        fill_value='?',\n",
       "             dtype=object),\n",
       " 'params': [{'C': 1, 'kernel': 'linear'}, {'C': 10, 'kernel': 'linear'}],\n",
       " 'split0_test_score': array([0.65, 0.7 ]),\n",
       " 'split1_test_score': array([0.76666667, 0.81666667]),\n",
       " 'split2_test_score': array([0.88333333, 0.9       ]),\n",
       " 'split3_test_score': array([0.8       , 0.81666667]),\n",
       " 'split4_test_score': array([0.6779661, 0.6779661]),\n",
       " 'mean_test_score': array([0.75559322, 0.78225989]),\n",
       " 'std_test_score': array([0.08436589, 0.0823095 ]),\n",
       " 'rank_test_score': array([2, 1]),\n",
       " 'split0_train_score': array([0.87029289, 0.86192469]),\n",
       " 'split1_train_score': array([0.82845188, 0.84518828]),\n",
       " 'split2_train_score': array([0.80753138, 0.82008368]),\n",
       " 'split3_train_score': array([0.85774059, 0.84518828]),\n",
       " 'split4_train_score': array([0.90833333, 0.9125    ]),\n",
       " 'mean_train_score': array([0.85447001, 0.85697699]),\n",
       " 'std_train_score': array([0.03476347, 0.03081022])}"
      ]
     },
     "execution_count": 8,
     "metadata": {},
     "output_type": "execute_result"
    }
   ],
   "source": [
    "parameters = {'kernel':list(['linear']), 'C':[1, 10]}\n",
    "svc = svm.SVC()\n",
    "clf = GridSearchCV(svc, parameters, cv=5, return_train_score = True)\n",
    "clf.fit(X, np.ravel(y))\n",
    "clf.cv_results_\n",
    "# i = 1\n",
    "# linear_values = []\n",
    "# while(i <= 10):\n",
    "#     svc_1 = svm.SVC(kernel ='linear', C = i)\n",
    "#     svc_1.fit(X_train, np.ravel(y_train))\n",
    "#     linear_values.append(svc_1.score(X_train, np.ravel(y_train)))\n",
    "#     i = i + 1\n",
    "    \n",
    "# linear_values"
   ]
  },
  {
   "cell_type": "code",
   "execution_count": 9,
   "metadata": {},
   "outputs": [
    {
     "data": {
      "text/plain": [
       "{'C': 10, 'kernel': 'linear'}"
      ]
     },
     "execution_count": 9,
     "metadata": {},
     "output_type": "execute_result"
    }
   ],
   "source": [
    "clf.best_params_"
   ]
  },
  {
   "cell_type": "code",
   "execution_count": 10,
   "metadata": {},
   "outputs": [
    {
     "name": "stdout",
     "output_type": "stream",
     "text": [
      "The fit time is: [0.00199366 0.00099707 0.00199509 0.00199842 0.00301123]\n",
      "The score time is: [0.0009985  0.         0.         0.00199771 0.        ]\n",
      "The test score is: [0.65       0.76666667 0.88333333 0.8        0.6779661 ]\n",
      "The train score is: [0.87029289 0.82845188 0.80753138 0.85774059 0.90833333]\n"
     ]
    }
   ],
   "source": [
    "svc_1 = svm.SVC(kernel ='linear', C = 1)\n",
    "svc_1.fit(X, np.ravel(y))\n",
    "results = cross_validate(svc_1,X, np.ravel(y),cv=5, return_train_score= True)\n",
    "print(\"The fit time is:\", results['fit_time'])\n",
    "print(\"The score time is:\", results['score_time'])\n",
    "print(\"The test score is:\", results['test_score'])\n",
    "print(\"The train score is:\", results['train_score'])"
   ]
  },
  {
   "cell_type": "code",
   "execution_count": 11,
   "metadata": {},
   "outputs": [
    {
     "name": "stdout",
     "output_type": "stream",
     "text": [
      "The fit time is: [0.00099921 0.00199485 0.0029943  0.00199413 0.000983  ]\n",
      "The score time is: [0.00099707 0.00099659 0.00199723 0.         0.        ]\n",
      "The test score is: [0.7        0.78333333 0.93333333 0.85       0.6779661 ]\n",
      "The train score is: [0.87029289 0.84518828 0.82008368 0.84100418 0.90833333]\n"
     ]
    }
   ],
   "source": [
    "svc_1 = svm.SVC(kernel ='linear', C = 5)\n",
    "svc_1.fit(X, np.ravel(y))\n",
    "results = cross_validate(svc_1,X, np.ravel(y),cv=5, return_train_score= True)\n",
    "print(\"The fit time is:\", results['fit_time'])\n",
    "print(\"The score time is:\", results['score_time'])\n",
    "print(\"The test score is:\", results['test_score'])\n",
    "print(\"The train score is:\", results['train_score'])"
   ]
  },
  {
   "cell_type": "code",
   "execution_count": 12,
   "metadata": {},
   "outputs": [
    {
     "name": "stdout",
     "output_type": "stream",
     "text": [
      "The fit time is: [0.00199318 0.00300932 0.00299025 0.00298929 0.00198555]\n",
      "The score time is: [0.         0.00098395 0.         0.         0.00100684]\n",
      "The test score is: [0.7        0.81666667 0.9        0.81666667 0.6779661 ]\n",
      "The train score is: [0.86192469 0.84518828 0.82008368 0.84518828 0.9125    ]\n"
     ]
    }
   ],
   "source": [
    "svc_1 = svm.SVC(kernel ='linear', C = 10)\n",
    "svc_1.fit(X, np.ravel(y))\n",
    "results = cross_validate(svc_1,X, np.ravel(y),cv=5, return_train_score= True)\n",
    "print(\"The fit time is:\", results['fit_time'])\n",
    "print(\"The score time is:\", results['score_time'])\n",
    "print(\"The test score is:\", results['test_score'])\n",
    "print(\"The train score is:\", results['train_score'])"
   ]
  },
  {
   "cell_type": "markdown",
   "metadata": {},
   "source": [
    "# SVC (RBF)"
   ]
  },
  {
   "cell_type": "code",
   "execution_count": 13,
   "metadata": {},
   "outputs": [
    {
     "data": {
      "text/plain": [
       "{'mean_fit_time': array([0.00279198, 0.00328856, 0.00220027, 0.00258617]),\n",
       " 'std_fit_time': array([0.00039848, 0.00123938, 0.00039603, 0.00049551]),\n",
       " 'mean_score_time': array([0.00179648, 0.00070477, 0.00059814, 0.00039153]),\n",
       " 'std_score_time': array([0.00116352, 0.0003974 , 0.00048838, 0.00047966]),\n",
       " 'param_C': masked_array(data=[1, 1, 10, 10],\n",
       "              mask=[False, False, False, False],\n",
       "        fill_value='?',\n",
       "             dtype=object),\n",
       " 'param_gamma': masked_array(data=[1, 10, 1, 10],\n",
       "              mask=[False, False, False, False],\n",
       "        fill_value='?',\n",
       "             dtype=object),\n",
       " 'param_kernel': masked_array(data=['rbf', 'rbf', 'rbf', 'rbf'],\n",
       "              mask=[False, False, False, False],\n",
       "        fill_value='?',\n",
       "             dtype=object),\n",
       " 'params': [{'C': 1, 'gamma': 1, 'kernel': 'rbf'},\n",
       "  {'C': 1, 'gamma': 10, 'kernel': 'rbf'},\n",
       "  {'C': 10, 'gamma': 1, 'kernel': 'rbf'},\n",
       "  {'C': 10, 'gamma': 10, 'kernel': 'rbf'}],\n",
       " 'split0_test_score': array([0.68333333, 0.56666667, 0.63333333, 0.46666667]),\n",
       " 'split1_test_score': array([0.8       , 0.66666667, 0.73333333, 0.63333333]),\n",
       " 'split2_test_score': array([0.81666667, 0.66666667, 0.76666667, 0.61666667]),\n",
       " 'split3_test_score': array([0.71666667, 0.68333333, 0.71666667, 0.6       ]),\n",
       " 'split4_test_score': array([0.6779661, 0.6779661, 0.6779661, 0.6779661]),\n",
       " 'mean_test_score': array([0.73892655, 0.65225989, 0.70559322, 0.59892655]),\n",
       " 'std_test_score': array([0.05843933, 0.04328436, 0.04605833, 0.07104874]),\n",
       " 'rank_test_score': array([1, 3, 2, 4]),\n",
       " 'split0_train_score': array([0.89121339, 0.9665272 , 0.958159  , 1.        ]),\n",
       " 'split1_train_score': array([0.84518828, 0.958159  , 0.94142259, 1.        ]),\n",
       " 'split2_train_score': array([0.85774059, 0.9623431 , 0.93723849, 1.        ]),\n",
       " 'split3_train_score': array([0.86192469, 0.9707113 , 0.9539749 , 1.        ]),\n",
       " 'split4_train_score': array([0.9       , 0.975     , 0.96666667, 1.        ]),\n",
       " 'mean_train_score': array([0.87121339, 0.96654812, 0.95149233, 1.        ]),\n",
       " 'std_train_score': array([0.02085076, 0.00594687, 0.01082072, 0.        ])}"
      ]
     },
     "execution_count": 13,
     "metadata": {},
     "output_type": "execute_result"
    }
   ],
   "source": [
    "parameters = {'kernel':list(['rbf']), 'C':[1, 10], 'gamma':[1, 10]}\n",
    "svc = svm.SVC()\n",
    "clf = GridSearchCV(svc, parameters, cv=5, return_train_score = True)\n",
    "clf.fit(X, np.ravel(y))\n",
    "clf.cv_results_\n",
    "# rbf_values = []\n",
    "# for i in range(1,11):\n",
    "#     for j in range(1,11): \n",
    "#         svc_2 = svm.SVC(kernel = 'rbf', C = i , gamma = j)\n",
    "#         svc_2.fit(X_train, np.ravel(y_train))\n",
    "#         rbf_values.append(svc_2.score(X_train, np.ravel(y_train)))\n",
    "        \n",
    "# rbf_values"
   ]
  },
  {
   "cell_type": "code",
   "execution_count": 14,
   "metadata": {},
   "outputs": [
    {
     "data": {
      "text/plain": [
       "{'C': 1, 'gamma': 1, 'kernel': 'rbf'}"
      ]
     },
     "execution_count": 14,
     "metadata": {},
     "output_type": "execute_result"
    }
   ],
   "source": [
    "clf.best_params_"
   ]
  },
  {
   "cell_type": "code",
   "execution_count": 36,
   "metadata": {},
   "outputs": [
    {
     "name": "stdout",
     "output_type": "stream",
     "text": [
      "The fit time is: [0.00199461 0.00099754 0.0039947  0.00196266 0.00099683]\n",
      "The score time is: [0.00099754 0.00099754 0.00098157 0.00099754 0.0009973 ]\n",
      "The test score is: [0.73333333 0.8        0.8        0.73333333 0.6779661 ]\n",
      "The train score is: [0.89121339 0.84100418 0.84518828 0.85355649 0.8875    ]\n"
     ]
    }
   ],
   "source": [
    "svc_2 = svm.SVC(kernel = 'rbf', C = 1 , gamma = 'scale')\n",
    "svc_2.fit(X, np.ravel(y))\n",
    "results = cross_validate(svc_2,X, np.ravel(y),cv=5, return_train_score= True)\n",
    "print(\"The fit time is:\", results['fit_time'])\n",
    "print(\"The score time is:\", results['score_time'])\n",
    "print(\"The test score is:\", results['test_score'])\n",
    "print(\"The train score is:\", results['train_score'])"
   ]
  },
  {
   "cell_type": "code",
   "execution_count": 16,
   "metadata": {},
   "outputs": [
    {
     "name": "stdout",
     "output_type": "stream",
     "text": [
      "The fit time is: [0.00498676 0.00398636 0.00397015 0.00299168 0.00200534]\n",
      "The score time is: [0.00199437 0.00103068 0.00197625 0.         0.00196934]\n",
      "The test score is: [0.56666667 0.66666667 0.66666667 0.68333333 0.6779661 ]\n",
      "The train score is: [0.9665272 0.958159  0.9623431 0.9707113 0.975    ]\n"
     ]
    }
   ],
   "source": [
    "svc_2 = svm.SVC(kernel = 'rbf', C = 1 , gamma = 10)\n",
    "svc_2.fit(X, np.ravel(y))\n",
    "results = cross_validate(svc_2,X, np.ravel(y),cv=5, return_train_score= True)\n",
    "print(\"The fit time is:\", results['fit_time'])\n",
    "print(\"The score time is:\", results['score_time'])\n",
    "print(\"The test score is:\", results['test_score'])\n",
    "print(\"The train score is:\", results['train_score'])"
   ]
  },
  {
   "cell_type": "code",
   "execution_count": 17,
   "metadata": {},
   "outputs": [
    {
     "name": "stdout",
     "output_type": "stream",
     "text": [
      "The fit time is: [0.00199604 0.00302219 0.00298452 0.00398898 0.00199413]\n",
      "The score time is: [0.         0.00097036 0.0009706  0.00099707 0.00099754]\n",
      "The test score is: [0.63333333 0.73333333 0.76666667 0.71666667 0.6779661 ]\n",
      "The train score is: [0.958159   0.94142259 0.93723849 0.9539749  0.96666667]\n"
     ]
    }
   ],
   "source": [
    "svc_2 = svm.SVC(kernel = 'rbf', C = 10 , gamma = 1)\n",
    "svc_2.fit(X, np.ravel(y))\n",
    "results = cross_validate(svc_2,X, np.ravel(y),cv=5, return_train_score= True)\n",
    "print(\"The fit time is:\", results['fit_time'])\n",
    "print(\"The score time is:\", results['score_time'])\n",
    "print(\"The test score is:\", results['test_score'])\n",
    "print(\"The train score is:\", results['train_score'])"
   ]
  },
  {
   "cell_type": "code",
   "execution_count": 18,
   "metadata": {},
   "outputs": [
    {
     "name": "stdout",
     "output_type": "stream",
     "text": [
      "The fit time is: [0.00498676 0.004987   0.00299263 0.00498605 0.00395751]\n",
      "The score time is: [0.0009973  0.00099659 0.         0.         0.        ]\n",
      "The test score is: [0.46666667 0.63333333 0.61666667 0.6        0.6779661 ]\n",
      "The train score is: [1. 1. 1. 1. 1.]\n"
     ]
    }
   ],
   "source": [
    "svc_2 = svm.SVC(kernel = 'rbf', C = 50 , gamma = 10)\n",
    "svc_2.fit(X, np.ravel(y))\n",
    "results = cross_validate(svc_2,X, np.ravel(y),cv=5, return_train_score= True)\n",
    "print(\"The fit time is:\", results['fit_time'])\n",
    "print(\"The score time is:\", results['score_time'])\n",
    "print(\"The test score is:\", results['test_score'])\n",
    "print(\"The train score is:\", results['train_score'])"
   ]
  },
  {
   "cell_type": "code",
   "execution_count": 19,
   "metadata": {},
   "outputs": [
    {
     "name": "stdout",
     "output_type": "stream",
     "text": [
      "The fit time is: [0.00298882 0.0049839  0.00398946 0.00601888 0.00498557]\n",
      "The score time is: [0.00102949 0.00099707 0.00099707 0.00296521 0.0009985 ]\n",
      "The test score is: [0.63333333 0.66666667 0.68333333 0.68333333 0.6779661 ]\n",
      "The train score is: [1. 1. 1. 1. 1.]\n"
     ]
    }
   ],
   "source": [
    "svc_2 = svm.SVC(kernel = 'rbf', C = 10 , gamma = 50)\n",
    "svc_2.fit(X, np.ravel(y))\n",
    "results = cross_validate(svc_2,X, np.ravel(y),cv=5, return_train_score= True)\n",
    "print(\"The fit time is:\", results['fit_time'])\n",
    "print(\"The score time is:\", results['score_time'])\n",
    "print(\"The test score is:\", results['test_score'])\n",
    "print(\"The train score is:\", results['train_score'])"
   ]
  },
  {
   "cell_type": "markdown",
   "metadata": {},
   "source": [
    "# SVC (Polynomial)"
   ]
  },
  {
   "cell_type": "code",
   "execution_count": 20,
   "metadata": {},
   "outputs": [
    {
     "data": {
      "text/plain": [
       "{'mean_fit_time': array([0.00239067, 0.0035913 , 0.00299187, 0.00359659]),\n",
       " 'std_fit_time': array([0.00048344, 0.00048716, 0.00063098, 0.00049434]),\n",
       " 'mean_score_time': array([0.00099726, 0.0013979 , 0.00099783, 0.0013905 ]),\n",
       " 'std_score_time': array([1.92750768e-06, 7.98929031e-04, 1.27414601e-06, 4.81263299e-04]),\n",
       " 'param_degree': masked_array(data=[1, 1, 10, 10],\n",
       "              mask=[False, False, False, False],\n",
       "        fill_value='?',\n",
       "             dtype=object),\n",
       " 'param_gamma': masked_array(data=[1, 10, 1, 10],\n",
       "              mask=[False, False, False, False],\n",
       "        fill_value='?',\n",
       "             dtype=object),\n",
       " 'param_kernel': masked_array(data=['poly', 'poly', 'poly', 'poly'],\n",
       "              mask=[False, False, False, False],\n",
       "        fill_value='?',\n",
       "             dtype=object),\n",
       " 'params': [{'degree': 1, 'gamma': 1, 'kernel': 'poly'},\n",
       "  {'degree': 1, 'gamma': 10, 'kernel': 'poly'},\n",
       "  {'degree': 10, 'gamma': 1, 'kernel': 'poly'},\n",
       "  {'degree': 10, 'gamma': 10, 'kernel': 'poly'}],\n",
       " 'split0_test_score': array([0.65      , 0.7       , 0.73333333, 0.73333333]),\n",
       " 'split1_test_score': array([0.76666667, 0.81666667, 0.58333333, 0.6       ]),\n",
       " 'split2_test_score': array([0.88333333, 0.9       , 0.65      , 0.66666667]),\n",
       " 'split3_test_score': array([0.8       , 0.81666667, 0.7       , 0.7       ]),\n",
       " 'split4_test_score': array([0.6779661 , 0.6779661 , 0.71186441, 0.71186441]),\n",
       " 'mean_test_score': array([0.75559322, 0.78225989, 0.67570621, 0.68237288]),\n",
       " 'std_test_score': array([0.08436589, 0.0823095 , 0.05368807, 0.04649604]),\n",
       " 'rank_test_score': array([2, 1, 4, 3]),\n",
       " 'split0_train_score': array([0.87029289, 0.86192469, 1.        , 1.        ]),\n",
       " 'split1_train_score': array([0.82845188, 0.84518828, 0.9958159 , 1.        ]),\n",
       " 'split2_train_score': array([0.80753138, 0.82008368, 0.9958159 , 1.        ]),\n",
       " 'split3_train_score': array([0.85774059, 0.84518828, 1.        , 1.        ]),\n",
       " 'split4_train_score': array([0.90833333, 0.9125    , 1.        , 1.        ]),\n",
       " 'mean_train_score': array([0.85447001, 0.85697699, 0.99832636, 1.        ]),\n",
       " 'std_train_score': array([0.03476347, 0.03081022, 0.00204978, 0.        ])}"
      ]
     },
     "execution_count": 20,
     "metadata": {},
     "output_type": "execute_result"
    }
   ],
   "source": [
    "parameters = {'kernel':list(['poly']), 'degree':[1, 10], 'gamma':[1, 10]}\n",
    "svc = svm.SVC()\n",
    "clf = GridSearchCV(svc, parameters, cv=5, return_train_score = True)\n",
    "clf.fit(X, np.ravel(y))\n",
    "clf.cv_results_\n",
    "# i = 2\n",
    "# poly_values = []\n",
    "# while(i <= 11):\n",
    "#     svc_3 = svm.SVC(kernel = 'poly', degree = i)\n",
    "#     svc_3.fit(X_train, y_train)\n",
    "#     poly_values.append(svc_3.score(X_train, np.ravel(y_train)))\n",
    "#     i = i + 1\n",
    "    \n",
    "# # np.ravel(y_train).shape\n",
    "# poly_values"
   ]
  },
  {
   "cell_type": "code",
   "execution_count": 21,
   "metadata": {},
   "outputs": [
    {
     "data": {
      "text/plain": [
       "{'degree': 1, 'gamma': 10, 'kernel': 'poly'}"
      ]
     },
     "execution_count": 21,
     "metadata": {},
     "output_type": "execute_result"
    }
   ],
   "source": [
    "clf.best_params_"
   ]
  },
  {
   "cell_type": "code",
   "execution_count": 22,
   "metadata": {},
   "outputs": [
    {
     "name": "stdout",
     "output_type": "stream",
     "text": [
      "The fit time is: [0.00498652 0.00199485 0.00399613 0.00298667 0.0029943 ]\n",
      "The score time is: [0.00199533 0.00099778 0.00100827 0.00099421 0.00099635]\n",
      "The test score is: [0.65       0.78333333 0.75       0.76666667 0.6779661 ]\n",
      "The train score is: [0.90794979 0.87029289 0.84100418 0.87029289 0.90416667]\n"
     ]
    }
   ],
   "source": [
    "svc_3 = svm.SVC(kernel = 'poly', degree = 3)\n",
    "svc_3.fit(X, np.ravel(y))\n",
    "results = cross_validate(svc_3,X, np.ravel(y),cv=5, return_train_score= True)\n",
    "print(\"The fit time is:\", results['fit_time'])\n",
    "print(\"The score time is:\", results['score_time'])\n",
    "print(\"The test score is:\", results['test_score'])\n",
    "print(\"The train score is:\", results['train_score'])"
   ]
  },
  {
   "cell_type": "code",
   "execution_count": 23,
   "metadata": {},
   "outputs": [
    {
     "name": "stdout",
     "output_type": "stream",
     "text": [
      "The fit time is: [0.00398898 0.00398803 0.00398469 0.00199461 0.00199199]\n",
      "The score time is: [0.00099754 0.00200033 0.00099802 0.0009973  0.00100684]\n",
      "The test score is: [0.66666667 0.71666667 0.73333333 0.7        0.6779661 ]\n",
      "The train score is: [0.94560669 0.93305439 0.92468619 0.93723849 0.9375    ]\n"
     ]
    }
   ],
   "source": [
    "svc_3 = svm.SVC(kernel = 'poly', degree = 5)\n",
    "svc_3.fit(X, np.ravel(y))\n",
    "results = cross_validate(svc_3,X, np.ravel(y),cv=5, return_train_score= True)\n",
    "print(\"The fit time is:\", results['fit_time'])\n",
    "print(\"The score time is:\", results['score_time'])\n",
    "print(\"The test score is:\", results['test_score'])\n",
    "print(\"The train score is:\", results['train_score'])"
   ]
  },
  {
   "cell_type": "code",
   "execution_count": 24,
   "metadata": {},
   "outputs": [
    {
     "name": "stdout",
     "output_type": "stream",
     "text": [
      "The fit time is: [0.00299788 0.00498676 0.00299168 0.00299263 0.00199413]\n",
      "The score time is: [0. 0. 0. 0. 0.]\n",
      "The test score is: [0.63333333 0.58333333 0.58333333 0.73333333 0.6779661 ]\n",
      "The train score is: [0.9748954 0.9707113 0.9707113 0.9790795 0.975    ]\n"
     ]
    }
   ],
   "source": [
    "svc_3 = svm.SVC(kernel = 'poly', degree = 10)\n",
    "svc_3.fit(X, np.ravel(y))\n",
    "results = cross_validate(svc_3,X, np.ravel(y),cv=5, return_train_score= True)\n",
    "print(\"The fit time is:\", results['fit_time'])\n",
    "print(\"The score time is:\", results['score_time'])\n",
    "print(\"The test score is:\", results['test_score'])\n",
    "print(\"The train score is:\", results['train_score'])"
   ]
  },
  {
   "cell_type": "markdown",
   "metadata": {},
   "source": [
    "# SVC (Sigmoid)"
   ]
  },
  {
   "cell_type": "code",
   "execution_count": 25,
   "metadata": {},
   "outputs": [
    {
     "data": {
      "text/plain": [
       "{'mean_fit_time': array([0.00278673, 0.00119305]),\n",
       " 'std_fit_time': array([0.00040184, 0.00039339]),\n",
       " 'mean_score_time': array([0.00099807, 0.00119672]),\n",
       " 'std_score_time': array([1.43368686e-06, 3.98707686e-04]),\n",
       " 'param_gamma': masked_array(data=[1, 10],\n",
       "              mask=[False, False],\n",
       "        fill_value='?',\n",
       "             dtype=object),\n",
       " 'param_kernel': masked_array(data=['sigmoid', 'sigmoid'],\n",
       "              mask=[False, False],\n",
       "        fill_value='?',\n",
       "             dtype=object),\n",
       " 'params': [{'gamma': 1, 'kernel': 'sigmoid'},\n",
       "  {'gamma': 10, 'kernel': 'sigmoid'}],\n",
       " 'split0_test_score': array([0.58333333, 0.66666667]),\n",
       " 'split1_test_score': array([0.68333333, 0.68333333]),\n",
       " 'split2_test_score': array([0.55      , 0.68333333]),\n",
       " 'split3_test_score': array([0.55      , 0.68333333]),\n",
       " 'split4_test_score': array([0.71186441, 0.6779661 ]),\n",
       " 'mean_test_score': array([0.61570621, 0.67892655]),\n",
       " 'std_test_score': array([0.06856011, 0.00647281]),\n",
       " 'rank_test_score': array([2, 1]),\n",
       " 'split0_train_score': array([0.57740586, 0.68200837]),\n",
       " 'split1_train_score': array([0.53138075, 0.67782427]),\n",
       " 'split2_train_score': array([0.56066946, 0.67782427]),\n",
       " 'split3_train_score': array([0.58158996, 0.67782427]),\n",
       " 'split4_train_score': array([0.7       , 0.67916667]),\n",
       " 'mean_train_score': array([0.59020921, 0.67892957]),\n",
       " 'std_train_score': array([0.05766389, 0.00162483])}"
      ]
     },
     "execution_count": 25,
     "metadata": {},
     "output_type": "execute_result"
    }
   ],
   "source": [
    "parameters = {'kernel':list(['sigmoid']), 'gamma':[1, 10]}\n",
    "svc = svm.SVC()\n",
    "clf = GridSearchCV(svc, parameters, cv=5, return_train_score = True)\n",
    "clf.fit(X, np.ravel(y))\n",
    "clf.cv_results_\n",
    "\n",
    "# i = 2\n",
    "# sigmoid_values = []\n",
    "# while(i <= 11):\n",
    "#     svc_4 = svm.SVC(kernel = 'sigmoid', gamma = i)\n",
    "#     svc_4.fit(X_train, y_train)\n",
    "#     sigmoid_values.append(svc_4.score(X_train, np.ravel(y_train)))\n",
    "#     i = i + 1\n",
    "# sigmoid_values"
   ]
  },
  {
   "cell_type": "code",
   "execution_count": 26,
   "metadata": {},
   "outputs": [
    {
     "data": {
      "text/plain": [
       "{'gamma': 10, 'kernel': 'sigmoid'}"
      ]
     },
     "execution_count": 26,
     "metadata": {},
     "output_type": "execute_result"
    }
   ],
   "source": [
    "clf.best_params_"
   ]
  },
  {
   "cell_type": "code",
   "execution_count": 27,
   "metadata": {},
   "outputs": [
    {
     "name": "stdout",
     "output_type": "stream",
     "text": [
      "The fit time is: [0.00299072 0.00199628 0.0039897  0.00299144 0.00199223]\n",
      "The score time is: [0.00099754 0.0009954  0.         0.         0.00099659]\n",
      "The test score is: [0.58333333 0.68333333 0.55       0.55       0.71186441]\n",
      "The train score is: [0.57740586 0.53138075 0.56066946 0.58158996 0.7       ]\n"
     ]
    }
   ],
   "source": [
    "svc_4 = svm.SVC(kernel = 'sigmoid', gamma = 1)\n",
    "svc_4.fit(X, np.ravel(y))\n",
    "results = cross_validate(svc_4,X, np.ravel(y),cv=5, return_train_score= True)\n",
    "print(\"The fit time is:\", results['fit_time'])\n",
    "print(\"The score time is:\", results['score_time'])\n",
    "print(\"The test score is:\", results['test_score'])\n",
    "print(\"The train score is:\", results['train_score'])"
   ]
  },
  {
   "cell_type": "code",
   "execution_count": 28,
   "metadata": {},
   "outputs": [
    {
     "name": "stdout",
     "output_type": "stream",
     "text": [
      "The fit time is: [0.00299025 0.00299358 0.00299311 0.00199437 0.00299191]\n",
      "The score time is: [0.00099778 0.00101733 0.         0.         0.00099683]\n",
      "The test score is: [0.66666667 0.68333333 0.68333333 0.68333333 0.6779661 ]\n",
      "The train score is: [0.68200837 0.67782427 0.67782427 0.67782427 0.67916667]\n"
     ]
    }
   ],
   "source": [
    "svc_4 = svm.SVC(kernel = 'sigmoid', gamma = 5)\n",
    "svc_4.fit(X, np.ravel(y))\n",
    "results = cross_validate(svc_4,X, np.ravel(y),cv=5, return_train_score= True)\n",
    "print(\"The fit time is:\", results['fit_time'])\n",
    "print(\"The score time is:\", results['score_time'])\n",
    "print(\"The test score is:\", results['test_score'])\n",
    "print(\"The train score is:\", results['train_score'])"
   ]
  },
  {
   "cell_type": "code",
   "execution_count": 29,
   "metadata": {},
   "outputs": [
    {
     "name": "stdout",
     "output_type": "stream",
     "text": [
      "The fit time is: [0.00298905 0.0029974  0.00399351 0.00298643 0.00498557]\n",
      "The score time is: [0.00100756 0.         0.00299335 0.00099444 0.00199819]\n",
      "The test score is: [0.66666667 0.68333333 0.68333333 0.68333333 0.6779661 ]\n",
      "The train score is: [0.68200837 0.67782427 0.67782427 0.67782427 0.67916667]\n"
     ]
    }
   ],
   "source": [
    "svc_4 = svm.SVC(kernel = 'sigmoid', gamma = 10)\n",
    "svc_4.fit(X, np.ravel(y))\n",
    "results = cross_validate(svc_4,X, np.ravel(y),cv=5, return_train_score= True)\n",
    "print(\"The fit time is:\", results['fit_time'])\n",
    "print(\"The score time is:\", results['score_time'])\n",
    "print(\"The test score is:\", results['test_score'])\n",
    "print(\"The train score is:\", results['train_score'])"
   ]
  },
  {
   "cell_type": "markdown",
   "metadata": {},
   "source": [
    "# Best Kernel & their parameters"
   ]
  },
  {
   "cell_type": "code",
   "execution_count": 30,
   "metadata": {},
   "outputs": [
    {
     "data": {
      "text/plain": [
       "{'mean_fit_time': array([0.0029984 , 0.00299196, 0.00099854, 0.0031919 , 0.00139604,\n",
       "        0.0033905 , 0.00180745, 0.00219064, 0.00100241, 0.00197906,\n",
       "        0.00267377, 0.00180039, 0.00118651, 0.00298672, 0.00260296,\n",
       "        0.00199499, 0.00178757, 0.0019856 , 0.00200152, 0.00201578,\n",
       "        0.00220494, 0.00259147, 0.01057262, 0.0017941 , 0.00218992,\n",
       "        0.00200734, 0.00218868, 0.00240488, 0.00179944, 0.00238686,\n",
       "        0.00258861, 0.00202241]),\n",
       " 'std_fit_time': array([6.40593506e-04, 1.09049380e-03, 1.56994606e-06, 7.46238215e-04,\n",
       "        4.88352086e-04, 4.87196250e-04, 7.46877075e-04, 4.02571995e-04,\n",
       "        1.44148433e-05, 6.31323455e-04, 1.38759794e-03, 4.02152897e-04,\n",
       "        3.88680688e-04, 6.31664843e-04, 7.99427679e-04, 6.21797420e-04,\n",
       "        4.10765574e-04, 2.09300554e-05, 6.21528638e-04, 6.30732688e-04,\n",
       "        7.48951404e-04, 5.01594673e-04, 6.09022610e-03, 3.99681453e-04,\n",
       "        7.54059967e-04, 1.82028174e-05, 3.84338115e-04, 8.22969498e-04,\n",
       "        4.02249030e-04, 4.80803431e-04, 7.85836080e-04, 6.23550484e-04]),\n",
       " 'mean_score_time': array([0.00059352, 0.00039897, 0.00079823, 0.00059857, 0.00039907,\n",
       "        0.00060434, 0.00039158, 0.000804  , 0.00059891, 0.00040636,\n",
       "        0.00050688, 0.00061135, 0.00060482, 0.00080347, 0.00060377,\n",
       "        0.00080004, 0.00060201, 0.00079484, 0.00058727, 0.00039945,\n",
       "        0.00059028, 0.00099173, 0.00039315, 0.00019927, 0.00079756,\n",
       "        0.00038614, 0.0004117 , 0.00058718, 0.00040541, 0.0008122 ,\n",
       "        0.00039773, 0.00058303]),\n",
       " 'std_score_time': array([0.00048471, 0.00048864, 0.00039911, 0.00079812, 0.00048875,\n",
       "        0.00049358, 0.0004797 , 0.00040216, 0.00048948, 0.00049776,\n",
       "        0.00044676, 0.0004994 , 0.00080133, 0.00040196, 0.00049313,\n",
       "        0.00075029, 0.0004916 , 0.00074941, 0.00078582, 0.00048922,\n",
       "        0.00048214, 0.0006308 , 0.00048155, 0.00039854, 0.00039879,\n",
       "        0.00047293, 0.00050423, 0.00048296, 0.00049663, 0.0004069 ,\n",
       "        0.00048712, 0.00047616]),\n",
       " 'param_C': masked_array(data=[1, 1, 1, 1, 1, 1, 1, 1, 1, 1, 1, 1, 1, 1, 1, 1, 10, 10,\n",
       "                    10, 10, 10, 10, 10, 10, 10, 10, 10, 10, 10, 10, 10, 10],\n",
       "              mask=[False, False, False, False, False, False, False, False,\n",
       "                    False, False, False, False, False, False, False, False,\n",
       "                    False, False, False, False, False, False, False, False,\n",
       "                    False, False, False, False, False, False, False, False],\n",
       "        fill_value='?',\n",
       "             dtype=object),\n",
       " 'param_degree': masked_array(data=[1, 1, 1, 1, 1, 1, 1, 1, 10, 10, 10, 10, 10, 10, 10, 10,\n",
       "                    1, 1, 1, 1, 1, 1, 1, 1, 10, 10, 10, 10, 10, 10, 10, 10],\n",
       "              mask=[False, False, False, False, False, False, False, False,\n",
       "                    False, False, False, False, False, False, False, False,\n",
       "                    False, False, False, False, False, False, False, False,\n",
       "                    False, False, False, False, False, False, False, False],\n",
       "        fill_value='?',\n",
       "             dtype=object),\n",
       " 'param_gamma': masked_array(data=[1, 1, 1, 1, 10, 10, 10, 10, 1, 1, 1, 1, 10, 10, 10, 10,\n",
       "                    1, 1, 1, 1, 10, 10, 10, 10, 1, 1, 1, 1, 10, 10, 10, 10],\n",
       "              mask=[False, False, False, False, False, False, False, False,\n",
       "                    False, False, False, False, False, False, False, False,\n",
       "                    False, False, False, False, False, False, False, False,\n",
       "                    False, False, False, False, False, False, False, False],\n",
       "        fill_value='?',\n",
       "             dtype=object),\n",
       " 'param_kernel': masked_array(data=['linear', 'rbf', 'poly', 'sigmoid', 'linear', 'rbf',\n",
       "                    'poly', 'sigmoid', 'linear', 'rbf', 'poly', 'sigmoid',\n",
       "                    'linear', 'rbf', 'poly', 'sigmoid', 'linear', 'rbf',\n",
       "                    'poly', 'sigmoid', 'linear', 'rbf', 'poly', 'sigmoid',\n",
       "                    'linear', 'rbf', 'poly', 'sigmoid', 'linear', 'rbf',\n",
       "                    'poly', 'sigmoid'],\n",
       "              mask=[False, False, False, False, False, False, False, False,\n",
       "                    False, False, False, False, False, False, False, False,\n",
       "                    False, False, False, False, False, False, False, False,\n",
       "                    False, False, False, False, False, False, False, False],\n",
       "        fill_value='?',\n",
       "             dtype=object),\n",
       " 'params': [{'C': 1, 'degree': 1, 'gamma': 1, 'kernel': 'linear'},\n",
       "  {'C': 1, 'degree': 1, 'gamma': 1, 'kernel': 'rbf'},\n",
       "  {'C': 1, 'degree': 1, 'gamma': 1, 'kernel': 'poly'},\n",
       "  {'C': 1, 'degree': 1, 'gamma': 1, 'kernel': 'sigmoid'},\n",
       "  {'C': 1, 'degree': 1, 'gamma': 10, 'kernel': 'linear'},\n",
       "  {'C': 1, 'degree': 1, 'gamma': 10, 'kernel': 'rbf'},\n",
       "  {'C': 1, 'degree': 1, 'gamma': 10, 'kernel': 'poly'},\n",
       "  {'C': 1, 'degree': 1, 'gamma': 10, 'kernel': 'sigmoid'},\n",
       "  {'C': 1, 'degree': 10, 'gamma': 1, 'kernel': 'linear'},\n",
       "  {'C': 1, 'degree': 10, 'gamma': 1, 'kernel': 'rbf'},\n",
       "  {'C': 1, 'degree': 10, 'gamma': 1, 'kernel': 'poly'},\n",
       "  {'C': 1, 'degree': 10, 'gamma': 1, 'kernel': 'sigmoid'},\n",
       "  {'C': 1, 'degree': 10, 'gamma': 10, 'kernel': 'linear'},\n",
       "  {'C': 1, 'degree': 10, 'gamma': 10, 'kernel': 'rbf'},\n",
       "  {'C': 1, 'degree': 10, 'gamma': 10, 'kernel': 'poly'},\n",
       "  {'C': 1, 'degree': 10, 'gamma': 10, 'kernel': 'sigmoid'},\n",
       "  {'C': 10, 'degree': 1, 'gamma': 1, 'kernel': 'linear'},\n",
       "  {'C': 10, 'degree': 1, 'gamma': 1, 'kernel': 'rbf'},\n",
       "  {'C': 10, 'degree': 1, 'gamma': 1, 'kernel': 'poly'},\n",
       "  {'C': 10, 'degree': 1, 'gamma': 1, 'kernel': 'sigmoid'},\n",
       "  {'C': 10, 'degree': 1, 'gamma': 10, 'kernel': 'linear'},\n",
       "  {'C': 10, 'degree': 1, 'gamma': 10, 'kernel': 'rbf'},\n",
       "  {'C': 10, 'degree': 1, 'gamma': 10, 'kernel': 'poly'},\n",
       "  {'C': 10, 'degree': 1, 'gamma': 10, 'kernel': 'sigmoid'},\n",
       "  {'C': 10, 'degree': 10, 'gamma': 1, 'kernel': 'linear'},\n",
       "  {'C': 10, 'degree': 10, 'gamma': 1, 'kernel': 'rbf'},\n",
       "  {'C': 10, 'degree': 10, 'gamma': 1, 'kernel': 'poly'},\n",
       "  {'C': 10, 'degree': 10, 'gamma': 1, 'kernel': 'sigmoid'},\n",
       "  {'C': 10, 'degree': 10, 'gamma': 10, 'kernel': 'linear'},\n",
       "  {'C': 10, 'degree': 10, 'gamma': 10, 'kernel': 'rbf'},\n",
       "  {'C': 10, 'degree': 10, 'gamma': 10, 'kernel': 'poly'},\n",
       "  {'C': 10, 'degree': 10, 'gamma': 10, 'kernel': 'sigmoid'}],\n",
       " 'split0_test_score': array([0.65      , 0.68333333, 0.65      , 0.58333333, 0.65      ,\n",
       "        0.56666667, 0.7       , 0.66666667, 0.65      , 0.68333333,\n",
       "        0.73333333, 0.58333333, 0.65      , 0.56666667, 0.73333333,\n",
       "        0.66666667, 0.7       , 0.63333333, 0.7       , 0.56666667,\n",
       "        0.7       , 0.46666667, 0.71666667, 0.66666667, 0.7       ,\n",
       "        0.63333333, 0.73333333, 0.56666667, 0.7       , 0.46666667,\n",
       "        0.73333333, 0.66666667]),\n",
       " 'split1_test_score': array([0.76666667, 0.8       , 0.76666667, 0.68333333, 0.76666667,\n",
       "        0.66666667, 0.81666667, 0.68333333, 0.76666667, 0.8       ,\n",
       "        0.58333333, 0.68333333, 0.76666667, 0.66666667, 0.6       ,\n",
       "        0.68333333, 0.81666667, 0.73333333, 0.81666667, 0.65      ,\n",
       "        0.81666667, 0.63333333, 0.78333333, 0.68333333, 0.81666667,\n",
       "        0.73333333, 0.6       , 0.65      , 0.81666667, 0.63333333,\n",
       "        0.6       , 0.68333333]),\n",
       " 'split2_test_score': array([0.88333333, 0.81666667, 0.88333333, 0.55      , 0.88333333,\n",
       "        0.66666667, 0.9       , 0.68333333, 0.88333333, 0.81666667,\n",
       "        0.65      , 0.55      , 0.88333333, 0.66666667, 0.66666667,\n",
       "        0.68333333, 0.9       , 0.76666667, 0.9       , 0.51666667,\n",
       "        0.9       , 0.61666667, 0.9       , 0.68333333, 0.9       ,\n",
       "        0.76666667, 0.66666667, 0.51666667, 0.9       , 0.61666667,\n",
       "        0.66666667, 0.68333333]),\n",
       " 'split3_test_score': array([0.8       , 0.71666667, 0.8       , 0.55      , 0.8       ,\n",
       "        0.68333333, 0.81666667, 0.68333333, 0.8       , 0.71666667,\n",
       "        0.7       , 0.55      , 0.8       , 0.68333333, 0.7       ,\n",
       "        0.68333333, 0.81666667, 0.71666667, 0.81666667, 0.48333333,\n",
       "        0.81666667, 0.6       , 0.83333333, 0.68333333, 0.81666667,\n",
       "        0.71666667, 0.7       , 0.48333333, 0.81666667, 0.6       ,\n",
       "        0.7       , 0.68333333]),\n",
       " 'split4_test_score': array([0.6779661 , 0.6779661 , 0.6779661 , 0.71186441, 0.6779661 ,\n",
       "        0.6779661 , 0.6779661 , 0.6779661 , 0.6779661 , 0.6779661 ,\n",
       "        0.71186441, 0.71186441, 0.6779661 , 0.6779661 , 0.71186441,\n",
       "        0.6779661 , 0.6779661 , 0.6779661 , 0.6779661 , 0.71186441,\n",
       "        0.6779661 , 0.6779661 , 0.6779661 , 0.6779661 , 0.6779661 ,\n",
       "        0.6779661 , 0.71186441, 0.71186441, 0.6779661 , 0.6779661 ,\n",
       "        0.71186441, 0.6779661 ]),\n",
       " 'mean_test_score': array([0.75559322, 0.73892655, 0.75559322, 0.61570621, 0.75559322,\n",
       "        0.65225989, 0.78225989, 0.67892655, 0.75559322, 0.73892655,\n",
       "        0.67570621, 0.61570621, 0.75559322, 0.65225989, 0.68237288,\n",
       "        0.67892655, 0.78225989, 0.70559322, 0.78225989, 0.58570621,\n",
       "        0.78225989, 0.59892655, 0.78225989, 0.67892655, 0.78225989,\n",
       "        0.70559322, 0.68237288, 0.58570621, 0.78225989, 0.59892655,\n",
       "        0.68237288, 0.67892655]),\n",
       " 'std_test_score': array([0.08436589, 0.05843933, 0.08436589, 0.06856011, 0.08436589,\n",
       "        0.04328436, 0.0823095 , 0.00647281, 0.08436589, 0.05843933,\n",
       "        0.05368807, 0.06856011, 0.08436589, 0.04328436, 0.04649604,\n",
       "        0.00647281, 0.0823095 , 0.04605833, 0.0823095 , 0.08444969,\n",
       "        0.0823095 , 0.07104874, 0.07956387, 0.00647281, 0.0823095 ,\n",
       "        0.04605833, 0.04649604, 0.08444969, 0.0823095 , 0.07104874,\n",
       "        0.04649604, 0.00647281]),\n",
       " 'rank_test_score': array([ 8, 13,  8, 27,  8, 25,  1, 20,  8, 13, 24, 27,  8, 25, 17, 20,  1,\n",
       "        15,  1, 31,  1, 29,  1, 20,  1, 15, 17, 31,  1, 29, 17, 20]),\n",
       " 'split0_train_score': array([0.87029289, 0.89121339, 0.87029289, 0.57740586, 0.87029289,\n",
       "        0.9665272 , 0.86192469, 0.68200837, 0.87029289, 0.89121339,\n",
       "        1.        , 0.57740586, 0.87029289, 0.9665272 , 1.        ,\n",
       "        0.68200837, 0.86192469, 0.958159  , 0.86192469, 0.53556485,\n",
       "        0.86192469, 1.        , 0.86610879, 0.68200837, 0.86192469,\n",
       "        0.958159  , 1.        , 0.53556485, 0.86192469, 1.        ,\n",
       "        1.        , 0.68200837]),\n",
       " 'split1_train_score': array([0.82845188, 0.84518828, 0.82845188, 0.53138075, 0.82845188,\n",
       "        0.958159  , 0.84518828, 0.67782427, 0.82845188, 0.84518828,\n",
       "        0.9958159 , 0.53138075, 0.82845188, 0.958159  , 1.        ,\n",
       "        0.67782427, 0.84518828, 0.94142259, 0.84518828, 0.51882845,\n",
       "        0.84518828, 1.        , 0.84100418, 0.67782427, 0.84518828,\n",
       "        0.94142259, 1.        , 0.51882845, 0.84518828, 1.        ,\n",
       "        1.        , 0.67782427]),\n",
       " 'split2_train_score': array([0.80753138, 0.85774059, 0.80753138, 0.56066946, 0.80753138,\n",
       "        0.9623431 , 0.82008368, 0.67782427, 0.80753138, 0.85774059,\n",
       "        0.9958159 , 0.56066946, 0.80753138, 0.9623431 , 1.        ,\n",
       "        0.67782427, 0.82008368, 0.93723849, 0.82008368, 0.58158996,\n",
       "        0.82008368, 1.        , 0.81589958, 0.67782427, 0.82008368,\n",
       "        0.93723849, 1.        , 0.58158996, 0.82008368, 1.        ,\n",
       "        1.        , 0.67782427]),\n",
       " 'split3_train_score': array([0.85774059, 0.86192469, 0.85774059, 0.58158996, 0.85774059,\n",
       "        0.9707113 , 0.84518828, 0.67782427, 0.85774059, 0.86192469,\n",
       "        1.        , 0.58158996, 0.85774059, 0.9707113 , 1.        ,\n",
       "        0.67782427, 0.84518828, 0.9539749 , 0.84518828, 0.56903766,\n",
       "        0.84518828, 1.        , 0.84518828, 0.67782427, 0.84518828,\n",
       "        0.9539749 , 1.        , 0.56903766, 0.84518828, 1.        ,\n",
       "        1.        , 0.67782427]),\n",
       " 'split4_train_score': array([0.90833333, 0.9       , 0.90833333, 0.7       , 0.90833333,\n",
       "        0.975     , 0.9125    , 0.67916667, 0.90833333, 0.9       ,\n",
       "        1.        , 0.7       , 0.90833333, 0.975     , 1.        ,\n",
       "        0.67916667, 0.9125    , 0.96666667, 0.9125    , 0.63333333,\n",
       "        0.9125    , 1.        , 0.9125    , 0.67916667, 0.9125    ,\n",
       "        0.96666667, 1.        , 0.63333333, 0.9125    , 1.        ,\n",
       "        1.        , 0.67916667]),\n",
       " 'mean_train_score': array([0.85447001, 0.87121339, 0.85447001, 0.59020921, 0.85447001,\n",
       "        0.96654812, 0.85697699, 0.67892957, 0.85447001, 0.87121339,\n",
       "        0.99832636, 0.59020921, 0.85447001, 0.96654812, 1.        ,\n",
       "        0.67892957, 0.85697699, 0.95149233, 0.85697699, 0.56767085,\n",
       "        0.85697699, 1.        , 0.85614017, 0.67892957, 0.85697699,\n",
       "        0.95149233, 1.        , 0.56767085, 0.85697699, 1.        ,\n",
       "        1.        , 0.67892957]),\n",
       " 'std_train_score': array([0.03476347, 0.02085076, 0.03476347, 0.05766389, 0.03476347,\n",
       "        0.00594687, 0.03081022, 0.00162483, 0.03476347, 0.02085076,\n",
       "        0.00204978, 0.05766389, 0.03476347, 0.00594687, 0.        ,\n",
       "        0.00162483, 0.03081022, 0.01082072, 0.03081022, 0.03980841,\n",
       "        0.03081022, 0.        , 0.03238565, 0.00162483, 0.03081022,\n",
       "        0.01082072, 0.        , 0.03980841, 0.03081022, 0.        ,\n",
       "        0.        , 0.00162483])}"
      ]
     },
     "execution_count": 30,
     "metadata": {},
     "output_type": "execute_result"
    }
   ],
   "source": [
    "parameters = {'kernel':('linear', 'rbf', 'poly', 'sigmoid'), 'C':[1, 10], 'degree':[1, 10], 'gamma':[1, 10]}\n",
    "svc = svm.SVC()\n",
    "clf = GridSearchCV(svc, parameters, cv=5, return_train_score = True)\n",
    "clf.fit(X, np.ravel(y))\n",
    "clf.cv_results_"
   ]
  },
  {
   "cell_type": "code",
   "execution_count": 33,
   "metadata": {},
   "outputs": [],
   "source": [
    "# df = pd.DataFrame(clf.cv_results_)\n",
    "# df.to_csv('C:\\\\Users\\\\yashg\\\\Desktop\\\\Semester 8\\\\Machine Learning\\\\SVC_Results.csv')"
   ]
  },
  {
   "cell_type": "code",
   "execution_count": 34,
   "metadata": {},
   "outputs": [
    {
     "data": {
      "text/plain": [
       "{'C': 1, 'degree': 1, 'gamma': 10, 'kernel': 'poly'}"
      ]
     },
     "execution_count": 34,
     "metadata": {},
     "output_type": "execute_result"
    }
   ],
   "source": [
    "clf.best_params_"
   ]
  },
  {
   "cell_type": "markdown",
   "metadata": {},
   "source": [
    "# "
   ]
  }
 ],
 "metadata": {
  "kernelspec": {
   "display_name": "Python 3",
   "language": "python",
   "name": "python3"
  },
  "language_info": {
   "codemirror_mode": {
    "name": "ipython",
    "version": 3
   },
   "file_extension": ".py",
   "mimetype": "text/x-python",
   "name": "python",
   "nbconvert_exporter": "python",
   "pygments_lexer": "ipython3",
   "version": "3.8.5"
  }
 },
 "nbformat": 4,
 "nbformat_minor": 4
}
